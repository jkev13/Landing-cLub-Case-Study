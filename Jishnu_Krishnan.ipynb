{
 "cells": [
  {
   "cell_type": "markdown",
   "id": "fdf9a3fd",
   "metadata": {},
   "source": [
    "# Exploratory Data Analysis on Lending Club Case Study"
   ]
  },
  {
   "cell_type": "markdown",
   "id": "2e8a1e8d",
   "metadata": {},
   "source": [
    "## Introduction"
   ]
  },
  {
   "cell_type": "markdown",
   "id": "1a9dfa33",
   "metadata": {},
   "source": [
    "*When the company receives a loan application, the company has to make a decision for loan approval based on the applicant’s profile. Our aim is to __identify patterns that indicate if a person is likely to default__ using loan data issued through the time period 2007 - 2011*"
   ]
  },
  {
   "cell_type": "markdown",
   "id": "6b15c966",
   "metadata": {},
   "source": [
    "## Contents:"
   ]
  },
  {
   "cell_type": "markdown",
   "id": "d32bf55d",
   "metadata": {},
   "source": [
    " - Import Libraries\n",
    " - Read Data\n",
    " - Predictions\n",
    " - Data CLeaning\n",
    "   - Missing Value Treatment\n",
    " - Data Imputation\n",
    " - Derived Columns\n",
    " - Categorical Features\n",
    " - Numerical Features\n",
    " - Detecting Outliers\n",
    " - Relation between Numeric Variables\n",
    " - Data Analysis\n",
    "   - Univariate Analysis\n",
    "   - Bivariate Analysis"
   ]
  },
  {
   "cell_type": "markdown",
   "id": "b806ea46",
   "metadata": {},
   "source": [
    "### Import Libraries"
   ]
  },
  {
   "cell_type": "code",
   "execution_count": 1,
   "id": "2a5e68cd",
   "metadata": {},
   "outputs": [],
   "source": [
    "#data analysis libraries \n",
    "import numpy as np\n",
    "import pandas as pd\n",
    "\n",
    "#visualization libraries\n",
    "import matplotlib.pyplot as plt\n",
    "import seaborn as sns\n",
    "import plotly.express as px\n",
    "%matplotlib inline\n",
    "\n",
    "#ignore warnings\n",
    "import warnings\n",
    "warnings.filterwarnings('ignore')"
   ]
  },
  {
   "cell_type": "markdown",
   "id": "53c66fc2",
   "metadata": {},
   "source": [
    "### Read Data"
   ]
  },
  {
   "cell_type": "code",
   "execution_count": 2,
   "id": "c1b396a1",
   "metadata": {
    "scrolled": true
   },
   "outputs": [],
   "source": [
    "# Read the csv file\n",
    "loan = pd.read_csv('loan.csv', low_memory=False)"
   ]
  },
  {
   "cell_type": "code",
   "execution_count": 3,
   "id": "9a417a0f",
   "metadata": {},
   "outputs": [
    {
     "data": {
      "text/plain": [
       "(39717, 111)"
      ]
     },
     "execution_count": 3,
     "metadata": {},
     "output_type": "execute_result"
    }
   ],
   "source": [
    "# Shape\n",
    "loan.shape\n",
    "\n",
    "# 39,717 rows and 111 columns"
   ]
  },
  {
   "cell_type": "code",
   "execution_count": 4,
   "id": "13295030",
   "metadata": {},
   "outputs": [
    {
     "data": {
      "text/html": [
       "<div>\n",
       "<style scoped>\n",
       "    .dataframe tbody tr th:only-of-type {\n",
       "        vertical-align: middle;\n",
       "    }\n",
       "\n",
       "    .dataframe tbody tr th {\n",
       "        vertical-align: top;\n",
       "    }\n",
       "\n",
       "    .dataframe thead th {\n",
       "        text-align: right;\n",
       "    }\n",
       "</style>\n",
       "<table border=\"1\" class=\"dataframe\">\n",
       "  <thead>\n",
       "    <tr style=\"text-align: right;\">\n",
       "      <th></th>\n",
       "      <th>id</th>\n",
       "      <th>member_id</th>\n",
       "      <th>loan_amnt</th>\n",
       "      <th>funded_amnt</th>\n",
       "      <th>funded_amnt_inv</th>\n",
       "      <th>term</th>\n",
       "      <th>int_rate</th>\n",
       "      <th>installment</th>\n",
       "      <th>grade</th>\n",
       "      <th>sub_grade</th>\n",
       "      <th>...</th>\n",
       "      <th>num_tl_90g_dpd_24m</th>\n",
       "      <th>num_tl_op_past_12m</th>\n",
       "      <th>pct_tl_nvr_dlq</th>\n",
       "      <th>percent_bc_gt_75</th>\n",
       "      <th>pub_rec_bankruptcies</th>\n",
       "      <th>tax_liens</th>\n",
       "      <th>tot_hi_cred_lim</th>\n",
       "      <th>total_bal_ex_mort</th>\n",
       "      <th>total_bc_limit</th>\n",
       "      <th>total_il_high_credit_limit</th>\n",
       "    </tr>\n",
       "  </thead>\n",
       "  <tbody>\n",
       "    <tr>\n",
       "      <th>8862</th>\n",
       "      <td>859402</td>\n",
       "      <td>1072046</td>\n",
       "      <td>11000</td>\n",
       "      <td>11000</td>\n",
       "      <td>11000.0</td>\n",
       "      <td>36 months</td>\n",
       "      <td>11.99%</td>\n",
       "      <td>365.31</td>\n",
       "      <td>B</td>\n",
       "      <td>B5</td>\n",
       "      <td>...</td>\n",
       "      <td>NaN</td>\n",
       "      <td>NaN</td>\n",
       "      <td>NaN</td>\n",
       "      <td>NaN</td>\n",
       "      <td>0.0</td>\n",
       "      <td>0.0</td>\n",
       "      <td>NaN</td>\n",
       "      <td>NaN</td>\n",
       "      <td>NaN</td>\n",
       "      <td>NaN</td>\n",
       "    </tr>\n",
       "    <tr>\n",
       "      <th>3553</th>\n",
       "      <td>1016647</td>\n",
       "      <td>1244565</td>\n",
       "      <td>18000</td>\n",
       "      <td>18000</td>\n",
       "      <td>18000.0</td>\n",
       "      <td>36 months</td>\n",
       "      <td>11.71%</td>\n",
       "      <td>595.37</td>\n",
       "      <td>B</td>\n",
       "      <td>B3</td>\n",
       "      <td>...</td>\n",
       "      <td>NaN</td>\n",
       "      <td>NaN</td>\n",
       "      <td>NaN</td>\n",
       "      <td>NaN</td>\n",
       "      <td>0.0</td>\n",
       "      <td>0.0</td>\n",
       "      <td>NaN</td>\n",
       "      <td>NaN</td>\n",
       "      <td>NaN</td>\n",
       "      <td>NaN</td>\n",
       "    </tr>\n",
       "    <tr>\n",
       "      <th>10650</th>\n",
       "      <td>829342</td>\n",
       "      <td>1038442</td>\n",
       "      <td>7450</td>\n",
       "      <td>7450</td>\n",
       "      <td>7200.0</td>\n",
       "      <td>36 months</td>\n",
       "      <td>15.62%</td>\n",
       "      <td>260.53</td>\n",
       "      <td>D</td>\n",
       "      <td>D1</td>\n",
       "      <td>...</td>\n",
       "      <td>NaN</td>\n",
       "      <td>NaN</td>\n",
       "      <td>NaN</td>\n",
       "      <td>NaN</td>\n",
       "      <td>0.0</td>\n",
       "      <td>0.0</td>\n",
       "      <td>NaN</td>\n",
       "      <td>NaN</td>\n",
       "      <td>NaN</td>\n",
       "      <td>NaN</td>\n",
       "    </tr>\n",
       "    <tr>\n",
       "      <th>916</th>\n",
       "      <td>1058484</td>\n",
       "      <td>1290072</td>\n",
       "      <td>7200</td>\n",
       "      <td>7200</td>\n",
       "      <td>7200.0</td>\n",
       "      <td>36 months</td>\n",
       "      <td>20.89%</td>\n",
       "      <td>270.86</td>\n",
       "      <td>F</td>\n",
       "      <td>F1</td>\n",
       "      <td>...</td>\n",
       "      <td>NaN</td>\n",
       "      <td>NaN</td>\n",
       "      <td>NaN</td>\n",
       "      <td>NaN</td>\n",
       "      <td>0.0</td>\n",
       "      <td>0.0</td>\n",
       "      <td>NaN</td>\n",
       "      <td>NaN</td>\n",
       "      <td>NaN</td>\n",
       "      <td>NaN</td>\n",
       "    </tr>\n",
       "    <tr>\n",
       "      <th>31085</th>\n",
       "      <td>498915</td>\n",
       "      <td>640094</td>\n",
       "      <td>4800</td>\n",
       "      <td>4800</td>\n",
       "      <td>4725.0</td>\n",
       "      <td>36 months</td>\n",
       "      <td>7.51%</td>\n",
       "      <td>149.33</td>\n",
       "      <td>A</td>\n",
       "      <td>A4</td>\n",
       "      <td>...</td>\n",
       "      <td>NaN</td>\n",
       "      <td>NaN</td>\n",
       "      <td>NaN</td>\n",
       "      <td>NaN</td>\n",
       "      <td>0.0</td>\n",
       "      <td>0.0</td>\n",
       "      <td>NaN</td>\n",
       "      <td>NaN</td>\n",
       "      <td>NaN</td>\n",
       "      <td>NaN</td>\n",
       "    </tr>\n",
       "  </tbody>\n",
       "</table>\n",
       "<p>5 rows × 111 columns</p>\n",
       "</div>"
      ],
      "text/plain": [
       "            id  member_id  loan_amnt  funded_amnt  funded_amnt_inv  \\\n",
       "8862    859402    1072046      11000        11000          11000.0   \n",
       "3553   1016647    1244565      18000        18000          18000.0   \n",
       "10650   829342    1038442       7450         7450           7200.0   \n",
       "916    1058484    1290072       7200         7200           7200.0   \n",
       "31085   498915     640094       4800         4800           4725.0   \n",
       "\n",
       "             term int_rate  installment grade sub_grade  ...  \\\n",
       "8862    36 months   11.99%       365.31     B        B5  ...   \n",
       "3553    36 months   11.71%       595.37     B        B3  ...   \n",
       "10650   36 months   15.62%       260.53     D        D1  ...   \n",
       "916     36 months   20.89%       270.86     F        F1  ...   \n",
       "31085   36 months    7.51%       149.33     A        A4  ...   \n",
       "\n",
       "      num_tl_90g_dpd_24m num_tl_op_past_12m pct_tl_nvr_dlq  percent_bc_gt_75  \\\n",
       "8862                 NaN                NaN            NaN               NaN   \n",
       "3553                 NaN                NaN            NaN               NaN   \n",
       "10650                NaN                NaN            NaN               NaN   \n",
       "916                  NaN                NaN            NaN               NaN   \n",
       "31085                NaN                NaN            NaN               NaN   \n",
       "\n",
       "      pub_rec_bankruptcies tax_liens tot_hi_cred_lim total_bal_ex_mort  \\\n",
       "8862                   0.0       0.0             NaN               NaN   \n",
       "3553                   0.0       0.0             NaN               NaN   \n",
       "10650                  0.0       0.0             NaN               NaN   \n",
       "916                    0.0       0.0             NaN               NaN   \n",
       "31085                  0.0       0.0             NaN               NaN   \n",
       "\n",
       "      total_bc_limit total_il_high_credit_limit  \n",
       "8862             NaN                        NaN  \n",
       "3553             NaN                        NaN  \n",
       "10650            NaN                        NaN  \n",
       "916              NaN                        NaN  \n",
       "31085            NaN                        NaN  \n",
       "\n",
       "[5 rows x 111 columns]"
      ]
     },
     "execution_count": 4,
     "metadata": {},
     "output_type": "execute_result"
    }
   ],
   "source": [
    "# Preview of the data\n",
    "loan.sample(5)"
   ]
  },
  {
   "cell_type": "markdown",
   "id": "1ce0f0f2",
   "metadata": {},
   "source": [
    "##### List of features"
   ]
  },
  {
   "cell_type": "code",
   "execution_count": 5,
   "id": "91f64ffb",
   "metadata": {},
   "outputs": [
    {
     "name": "stdout",
     "output_type": "stream",
     "text": [
      "Index(['id', 'member_id', 'loan_amnt', 'funded_amnt', 'funded_amnt_inv',\n",
      "       'term', 'int_rate', 'installment', 'grade', 'sub_grade',\n",
      "       ...\n",
      "       'num_tl_90g_dpd_24m', 'num_tl_op_past_12m', 'pct_tl_nvr_dlq',\n",
      "       'percent_bc_gt_75', 'pub_rec_bankruptcies', 'tax_liens',\n",
      "       'tot_hi_cred_lim', 'total_bal_ex_mort', 'total_bc_limit',\n",
      "       'total_il_high_credit_limit'],\n",
      "      dtype='object', length=111)\n"
     ]
    }
   ],
   "source": [
    "# Get a list of the features within the dataset\n",
    "print(loan.columns)"
   ]
  },
  {
   "cell_type": "markdown",
   "id": "5238ab9f",
   "metadata": {},
   "source": [
    "### Preliminary Predications"
   ]
  },
  {
   "cell_type": "markdown",
   "id": "2c128160",
   "metadata": {},
   "source": [
    " - *Records with loan status, 'Current', are not considered for analysis as it doesn't give sufficient information as to whether the the customer will become a defaulter or not.*\n",
    " - *Customer behaviour attributes like 'delinquent 2 yrs', 'revolving balance', 'next payment date'..., are ignored for analysis as they are generated after a loan is approved.*"
   ]
  },
  {
   "cell_type": "markdown",
   "id": "ab56e80b",
   "metadata": {},
   "source": [
    "### Data Cleaning"
   ]
  },
  {
   "cell_type": "markdown",
   "id": "93e99d4a",
   "metadata": {},
   "source": [
    "#### *Remove records with loan_status = 'Current' as it cannot really tell if the applicant is a defaulter or not*"
   ]
  },
  {
   "cell_type": "code",
   "execution_count": 6,
   "id": "1259c139",
   "metadata": {
    "scrolled": true
   },
   "outputs": [
    {
     "data": {
      "text/html": [
       "<div>\n",
       "<style scoped>\n",
       "    .dataframe tbody tr th:only-of-type {\n",
       "        vertical-align: middle;\n",
       "    }\n",
       "\n",
       "    .dataframe tbody tr th {\n",
       "        vertical-align: top;\n",
       "    }\n",
       "\n",
       "    .dataframe thead th {\n",
       "        text-align: right;\n",
       "    }\n",
       "</style>\n",
       "<table border=\"1\" class=\"dataframe\">\n",
       "  <thead>\n",
       "    <tr style=\"text-align: right;\">\n",
       "      <th></th>\n",
       "      <th>id</th>\n",
       "      <th>member_id</th>\n",
       "      <th>loan_amnt</th>\n",
       "      <th>funded_amnt</th>\n",
       "      <th>funded_amnt_inv</th>\n",
       "      <th>term</th>\n",
       "      <th>int_rate</th>\n",
       "      <th>installment</th>\n",
       "      <th>grade</th>\n",
       "      <th>sub_grade</th>\n",
       "      <th>...</th>\n",
       "      <th>num_tl_90g_dpd_24m</th>\n",
       "      <th>num_tl_op_past_12m</th>\n",
       "      <th>pct_tl_nvr_dlq</th>\n",
       "      <th>percent_bc_gt_75</th>\n",
       "      <th>pub_rec_bankruptcies</th>\n",
       "      <th>tax_liens</th>\n",
       "      <th>tot_hi_cred_lim</th>\n",
       "      <th>total_bal_ex_mort</th>\n",
       "      <th>total_bc_limit</th>\n",
       "      <th>total_il_high_credit_limit</th>\n",
       "    </tr>\n",
       "  </thead>\n",
       "  <tbody>\n",
       "    <tr>\n",
       "      <th>0</th>\n",
       "      <td>1077501</td>\n",
       "      <td>1296599</td>\n",
       "      <td>5000</td>\n",
       "      <td>5000</td>\n",
       "      <td>4975.0</td>\n",
       "      <td>36 months</td>\n",
       "      <td>10.65%</td>\n",
       "      <td>162.87</td>\n",
       "      <td>B</td>\n",
       "      <td>B2</td>\n",
       "      <td>...</td>\n",
       "      <td>NaN</td>\n",
       "      <td>NaN</td>\n",
       "      <td>NaN</td>\n",
       "      <td>NaN</td>\n",
       "      <td>0.0</td>\n",
       "      <td>0.0</td>\n",
       "      <td>NaN</td>\n",
       "      <td>NaN</td>\n",
       "      <td>NaN</td>\n",
       "      <td>NaN</td>\n",
       "    </tr>\n",
       "    <tr>\n",
       "      <th>1</th>\n",
       "      <td>1077430</td>\n",
       "      <td>1314167</td>\n",
       "      <td>2500</td>\n",
       "      <td>2500</td>\n",
       "      <td>2500.0</td>\n",
       "      <td>60 months</td>\n",
       "      <td>15.27%</td>\n",
       "      <td>59.83</td>\n",
       "      <td>C</td>\n",
       "      <td>C4</td>\n",
       "      <td>...</td>\n",
       "      <td>NaN</td>\n",
       "      <td>NaN</td>\n",
       "      <td>NaN</td>\n",
       "      <td>NaN</td>\n",
       "      <td>0.0</td>\n",
       "      <td>0.0</td>\n",
       "      <td>NaN</td>\n",
       "      <td>NaN</td>\n",
       "      <td>NaN</td>\n",
       "      <td>NaN</td>\n",
       "    </tr>\n",
       "    <tr>\n",
       "      <th>2</th>\n",
       "      <td>1077175</td>\n",
       "      <td>1313524</td>\n",
       "      <td>2400</td>\n",
       "      <td>2400</td>\n",
       "      <td>2400.0</td>\n",
       "      <td>36 months</td>\n",
       "      <td>15.96%</td>\n",
       "      <td>84.33</td>\n",
       "      <td>C</td>\n",
       "      <td>C5</td>\n",
       "      <td>...</td>\n",
       "      <td>NaN</td>\n",
       "      <td>NaN</td>\n",
       "      <td>NaN</td>\n",
       "      <td>NaN</td>\n",
       "      <td>0.0</td>\n",
       "      <td>0.0</td>\n",
       "      <td>NaN</td>\n",
       "      <td>NaN</td>\n",
       "      <td>NaN</td>\n",
       "      <td>NaN</td>\n",
       "    </tr>\n",
       "    <tr>\n",
       "      <th>3</th>\n",
       "      <td>1076863</td>\n",
       "      <td>1277178</td>\n",
       "      <td>10000</td>\n",
       "      <td>10000</td>\n",
       "      <td>10000.0</td>\n",
       "      <td>36 months</td>\n",
       "      <td>13.49%</td>\n",
       "      <td>339.31</td>\n",
       "      <td>C</td>\n",
       "      <td>C1</td>\n",
       "      <td>...</td>\n",
       "      <td>NaN</td>\n",
       "      <td>NaN</td>\n",
       "      <td>NaN</td>\n",
       "      <td>NaN</td>\n",
       "      <td>0.0</td>\n",
       "      <td>0.0</td>\n",
       "      <td>NaN</td>\n",
       "      <td>NaN</td>\n",
       "      <td>NaN</td>\n",
       "      <td>NaN</td>\n",
       "    </tr>\n",
       "    <tr>\n",
       "      <th>5</th>\n",
       "      <td>1075269</td>\n",
       "      <td>1311441</td>\n",
       "      <td>5000</td>\n",
       "      <td>5000</td>\n",
       "      <td>5000.0</td>\n",
       "      <td>36 months</td>\n",
       "      <td>7.90%</td>\n",
       "      <td>156.46</td>\n",
       "      <td>A</td>\n",
       "      <td>A4</td>\n",
       "      <td>...</td>\n",
       "      <td>NaN</td>\n",
       "      <td>NaN</td>\n",
       "      <td>NaN</td>\n",
       "      <td>NaN</td>\n",
       "      <td>0.0</td>\n",
       "      <td>0.0</td>\n",
       "      <td>NaN</td>\n",
       "      <td>NaN</td>\n",
       "      <td>NaN</td>\n",
       "      <td>NaN</td>\n",
       "    </tr>\n",
       "  </tbody>\n",
       "</table>\n",
       "<p>5 rows × 111 columns</p>\n",
       "</div>"
      ],
      "text/plain": [
       "        id  member_id  loan_amnt  funded_amnt  funded_amnt_inv        term  \\\n",
       "0  1077501    1296599       5000         5000           4975.0   36 months   \n",
       "1  1077430    1314167       2500         2500           2500.0   60 months   \n",
       "2  1077175    1313524       2400         2400           2400.0   36 months   \n",
       "3  1076863    1277178      10000        10000          10000.0   36 months   \n",
       "5  1075269    1311441       5000         5000           5000.0   36 months   \n",
       "\n",
       "  int_rate  installment grade sub_grade  ... num_tl_90g_dpd_24m  \\\n",
       "0   10.65%       162.87     B        B2  ...                NaN   \n",
       "1   15.27%        59.83     C        C4  ...                NaN   \n",
       "2   15.96%        84.33     C        C5  ...                NaN   \n",
       "3   13.49%       339.31     C        C1  ...                NaN   \n",
       "5    7.90%       156.46     A        A4  ...                NaN   \n",
       "\n",
       "  num_tl_op_past_12m pct_tl_nvr_dlq  percent_bc_gt_75 pub_rec_bankruptcies  \\\n",
       "0                NaN            NaN               NaN                  0.0   \n",
       "1                NaN            NaN               NaN                  0.0   \n",
       "2                NaN            NaN               NaN                  0.0   \n",
       "3                NaN            NaN               NaN                  0.0   \n",
       "5                NaN            NaN               NaN                  0.0   \n",
       "\n",
       "  tax_liens tot_hi_cred_lim total_bal_ex_mort total_bc_limit  \\\n",
       "0       0.0             NaN               NaN            NaN   \n",
       "1       0.0             NaN               NaN            NaN   \n",
       "2       0.0             NaN               NaN            NaN   \n",
       "3       0.0             NaN               NaN            NaN   \n",
       "5       0.0             NaN               NaN            NaN   \n",
       "\n",
       "  total_il_high_credit_limit  \n",
       "0                        NaN  \n",
       "1                        NaN  \n",
       "2                        NaN  \n",
       "3                        NaN  \n",
       "5                        NaN  \n",
       "\n",
       "[5 rows x 111 columns]"
      ]
     },
     "execution_count": 6,
     "metadata": {},
     "output_type": "execute_result"
    }
   ],
   "source": [
    "loan_fc = loan[~loan['loan_status'].isin(['Current'])]\n",
    "loan_fc.head()"
   ]
  },
  {
   "cell_type": "code",
   "execution_count": 7,
   "id": "f96b48e6",
   "metadata": {},
   "outputs": [
    {
     "data": {
      "text/plain": [
       "Fully Paid     32950\n",
       "Charged Off     5627\n",
       "Name: loan_status, dtype: int64"
      ]
     },
     "execution_count": 7,
     "metadata": {},
     "output_type": "execute_result"
    }
   ],
   "source": [
    "# Verify removal of records of 'current' loan status\n",
    "loan_fc['loan_status'].value_counts()"
   ]
  },
  {
   "cell_type": "markdown",
   "id": "a2d89734",
   "metadata": {},
   "source": [
    "##### Remove columns related to customer behaviour"
   ]
  },
  {
   "cell_type": "code",
   "execution_count": 8,
   "id": "2875530b",
   "metadata": {},
   "outputs": [],
   "source": [
    "customer_behaviour_attributes = ['delinq_2yrs','earliest_cr_line','inq_last_6mths','open_acc','pub_rec','revol_bal','revol_util','total_acc','out_prncp','out_prncp_inv','total_pymnt','total_pymnt_inv','total_rec_prncp','total_rec_int','total_rec_late_fee','recoveries','collection_recovery_fee','last_pymnt_d','last_pymnt_amnt','last_credit_pull_d','application_type']"
   ]
  },
  {
   "cell_type": "code",
   "execution_count": 9,
   "id": "f2c4aa8d",
   "metadata": {},
   "outputs": [
    {
     "data": {
      "text/plain": [
       "(38577, 90)"
      ]
     },
     "execution_count": 9,
     "metadata": {},
     "output_type": "execute_result"
    }
   ],
   "source": [
    "loan_fc.drop(columns=customer_behaviour_attributes, inplace=True)\n",
    "loan_fc.shape"
   ]
  },
  {
   "cell_type": "code",
   "execution_count": 10,
   "id": "01f7f64b",
   "metadata": {
    "scrolled": true
   },
   "outputs": [
    {
     "name": "stdout",
     "output_type": "stream",
     "text": [
      "<class 'pandas.core.frame.DataFrame'>\n",
      "Int64Index: 38577 entries, 0 to 39716\n",
      "Data columns (total 90 columns):\n",
      " #   Column                          Non-Null Count  Dtype  \n",
      "---  ------                          --------------  -----  \n",
      " 0   id                              38577 non-null  int64  \n",
      " 1   member_id                       38577 non-null  int64  \n",
      " 2   loan_amnt                       38577 non-null  int64  \n",
      " 3   funded_amnt                     38577 non-null  int64  \n",
      " 4   funded_amnt_inv                 38577 non-null  float64\n",
      " 5   term                            38577 non-null  object \n",
      " 6   int_rate                        38577 non-null  object \n",
      " 7   installment                     38577 non-null  float64\n",
      " 8   grade                           38577 non-null  object \n",
      " 9   sub_grade                       38577 non-null  object \n",
      " 10  emp_title                       36191 non-null  object \n",
      " 11  emp_length                      37544 non-null  object \n",
      " 12  home_ownership                  38577 non-null  object \n",
      " 13  annual_inc                      38577 non-null  float64\n",
      " 14  verification_status             38577 non-null  object \n",
      " 15  issue_d                         38577 non-null  object \n",
      " 16  loan_status                     38577 non-null  object \n",
      " 17  pymnt_plan                      38577 non-null  object \n",
      " 18  url                             38577 non-null  object \n",
      " 19  desc                            26050 non-null  object \n",
      " 20  purpose                         38577 non-null  object \n",
      " 21  title                           38566 non-null  object \n",
      " 22  zip_code                        38577 non-null  object \n",
      " 23  addr_state                      38577 non-null  object \n",
      " 24  dti                             38577 non-null  float64\n",
      " 25  mths_since_last_delinq          13672 non-null  float64\n",
      " 26  mths_since_last_record          2740 non-null   float64\n",
      " 27  initial_list_status             38577 non-null  object \n",
      " 28  next_pymnt_d                    0 non-null      object \n",
      " 29  collections_12_mths_ex_med      38521 non-null  float64\n",
      " 30  mths_since_last_major_derog     0 non-null      float64\n",
      " 31  policy_code                     38577 non-null  int64  \n",
      " 32  annual_inc_joint                0 non-null      float64\n",
      " 33  dti_joint                       0 non-null      float64\n",
      " 34  verification_status_joint       0 non-null      float64\n",
      " 35  acc_now_delinq                  38577 non-null  int64  \n",
      " 36  tot_coll_amt                    0 non-null      float64\n",
      " 37  tot_cur_bal                     0 non-null      float64\n",
      " 38  open_acc_6m                     0 non-null      float64\n",
      " 39  open_il_6m                      0 non-null      float64\n",
      " 40  open_il_12m                     0 non-null      float64\n",
      " 41  open_il_24m                     0 non-null      float64\n",
      " 42  mths_since_rcnt_il              0 non-null      float64\n",
      " 43  total_bal_il                    0 non-null      float64\n",
      " 44  il_util                         0 non-null      float64\n",
      " 45  open_rv_12m                     0 non-null      float64\n",
      " 46  open_rv_24m                     0 non-null      float64\n",
      " 47  max_bal_bc                      0 non-null      float64\n",
      " 48  all_util                        0 non-null      float64\n",
      " 49  total_rev_hi_lim                0 non-null      float64\n",
      " 50  inq_fi                          0 non-null      float64\n",
      " 51  total_cu_tl                     0 non-null      float64\n",
      " 52  inq_last_12m                    0 non-null      float64\n",
      " 53  acc_open_past_24mths            0 non-null      float64\n",
      " 54  avg_cur_bal                     0 non-null      float64\n",
      " 55  bc_open_to_buy                  0 non-null      float64\n",
      " 56  bc_util                         0 non-null      float64\n",
      " 57  chargeoff_within_12_mths        38521 non-null  float64\n",
      " 58  delinq_amnt                     38577 non-null  int64  \n",
      " 59  mo_sin_old_il_acct              0 non-null      float64\n",
      " 60  mo_sin_old_rev_tl_op            0 non-null      float64\n",
      " 61  mo_sin_rcnt_rev_tl_op           0 non-null      float64\n",
      " 62  mo_sin_rcnt_tl                  0 non-null      float64\n",
      " 63  mort_acc                        0 non-null      float64\n",
      " 64  mths_since_recent_bc            0 non-null      float64\n",
      " 65  mths_since_recent_bc_dlq        0 non-null      float64\n",
      " 66  mths_since_recent_inq           0 non-null      float64\n",
      " 67  mths_since_recent_revol_delinq  0 non-null      float64\n",
      " 68  num_accts_ever_120_pd           0 non-null      float64\n",
      " 69  num_actv_bc_tl                  0 non-null      float64\n",
      " 70  num_actv_rev_tl                 0 non-null      float64\n",
      " 71  num_bc_sats                     0 non-null      float64\n",
      " 72  num_bc_tl                       0 non-null      float64\n",
      " 73  num_il_tl                       0 non-null      float64\n",
      " 74  num_op_rev_tl                   0 non-null      float64\n",
      " 75  num_rev_accts                   0 non-null      float64\n",
      " 76  num_rev_tl_bal_gt_0             0 non-null      float64\n",
      " 77  num_sats                        0 non-null      float64\n",
      " 78  num_tl_120dpd_2m                0 non-null      float64\n",
      " 79  num_tl_30dpd                    0 non-null      float64\n",
      " 80  num_tl_90g_dpd_24m              0 non-null      float64\n",
      " 81  num_tl_op_past_12m              0 non-null      float64\n",
      " 82  pct_tl_nvr_dlq                  0 non-null      float64\n",
      " 83  percent_bc_gt_75                0 non-null      float64\n",
      " 84  pub_rec_bankruptcies            37880 non-null  float64\n",
      " 85  tax_liens                       38538 non-null  float64\n",
      " 86  tot_hi_cred_lim                 0 non-null      float64\n",
      " 87  total_bal_ex_mort               0 non-null      float64\n",
      " 88  total_bc_limit                  0 non-null      float64\n",
      " 89  total_il_high_credit_limit      0 non-null      float64\n",
      "dtypes: float64(64), int64(7), object(19)\n",
      "memory usage: 26.8+ MB\n"
     ]
    }
   ],
   "source": [
    "loan_fc.info()"
   ]
  },
  {
   "cell_type": "markdown",
   "id": "f9be1313",
   "metadata": {},
   "source": [
    "##### Clean up columns with all NA values"
   ]
  },
  {
   "cell_type": "code",
   "execution_count": 11,
   "id": "243f674d",
   "metadata": {},
   "outputs": [
    {
     "data": {
      "text/plain": [
       "(38577, 35)"
      ]
     },
     "execution_count": 11,
     "metadata": {},
     "output_type": "execute_result"
    }
   ],
   "source": [
    "# Remove columns that have only NA values\n",
    "loan_fc.dropna(axis=1, how='all', inplace=True)\n",
    "loan_fc.shape"
   ]
  },
  {
   "cell_type": "code",
   "execution_count": 12,
   "id": "86a9da4d",
   "metadata": {
    "scrolled": true
   },
   "outputs": [
    {
     "name": "stdout",
     "output_type": "stream",
     "text": [
      "<class 'pandas.core.frame.DataFrame'>\n",
      "Int64Index: 38577 entries, 0 to 39716\n",
      "Data columns (total 35 columns):\n",
      " #   Column                      Non-Null Count  Dtype  \n",
      "---  ------                      --------------  -----  \n",
      " 0   id                          38577 non-null  int64  \n",
      " 1   member_id                   38577 non-null  int64  \n",
      " 2   loan_amnt                   38577 non-null  int64  \n",
      " 3   funded_amnt                 38577 non-null  int64  \n",
      " 4   funded_amnt_inv             38577 non-null  float64\n",
      " 5   term                        38577 non-null  object \n",
      " 6   int_rate                    38577 non-null  object \n",
      " 7   installment                 38577 non-null  float64\n",
      " 8   grade                       38577 non-null  object \n",
      " 9   sub_grade                   38577 non-null  object \n",
      " 10  emp_title                   36191 non-null  object \n",
      " 11  emp_length                  37544 non-null  object \n",
      " 12  home_ownership              38577 non-null  object \n",
      " 13  annual_inc                  38577 non-null  float64\n",
      " 14  verification_status         38577 non-null  object \n",
      " 15  issue_d                     38577 non-null  object \n",
      " 16  loan_status                 38577 non-null  object \n",
      " 17  pymnt_plan                  38577 non-null  object \n",
      " 18  url                         38577 non-null  object \n",
      " 19  desc                        26050 non-null  object \n",
      " 20  purpose                     38577 non-null  object \n",
      " 21  title                       38566 non-null  object \n",
      " 22  zip_code                    38577 non-null  object \n",
      " 23  addr_state                  38577 non-null  object \n",
      " 24  dti                         38577 non-null  float64\n",
      " 25  mths_since_last_delinq      13672 non-null  float64\n",
      " 26  mths_since_last_record      2740 non-null   float64\n",
      " 27  initial_list_status         38577 non-null  object \n",
      " 28  collections_12_mths_ex_med  38521 non-null  float64\n",
      " 29  policy_code                 38577 non-null  int64  \n",
      " 30  acc_now_delinq              38577 non-null  int64  \n",
      " 31  chargeoff_within_12_mths    38521 non-null  float64\n",
      " 32  delinq_amnt                 38577 non-null  int64  \n",
      " 33  pub_rec_bankruptcies        37880 non-null  float64\n",
      " 34  tax_liens                   38538 non-null  float64\n",
      "dtypes: float64(10), int64(7), object(18)\n",
      "memory usage: 10.6+ MB\n"
     ]
    }
   ],
   "source": [
    "loan_fc.info()"
   ]
  },
  {
   "cell_type": "markdown",
   "id": "de78e2b1",
   "metadata": {},
   "source": [
    "##### Calculate missing values in %"
   ]
  },
  {
   "cell_type": "code",
   "execution_count": 13,
   "id": "878e0055",
   "metadata": {
    "scrolled": true
   },
   "outputs": [
    {
     "data": {
      "text/plain": [
       "id                             0.000000\n",
       "member_id                      0.000000\n",
       "loan_amnt                      0.000000\n",
       "funded_amnt                    0.000000\n",
       "funded_amnt_inv                0.000000\n",
       "term                           0.000000\n",
       "int_rate                       0.000000\n",
       "installment                    0.000000\n",
       "grade                          0.000000\n",
       "sub_grade                      0.000000\n",
       "emp_title                      6.185033\n",
       "emp_length                     2.677761\n",
       "home_ownership                 0.000000\n",
       "annual_inc                     0.000000\n",
       "verification_status            0.000000\n",
       "issue_d                        0.000000\n",
       "loan_status                    0.000000\n",
       "pymnt_plan                     0.000000\n",
       "url                            0.000000\n",
       "desc                          32.472717\n",
       "purpose                        0.000000\n",
       "title                          0.028514\n",
       "zip_code                       0.000000\n",
       "addr_state                     0.000000\n",
       "dti                            0.000000\n",
       "mths_since_last_delinq        64.559193\n",
       "mths_since_last_record        92.897322\n",
       "initial_list_status            0.000000\n",
       "collections_12_mths_ex_med     0.145164\n",
       "policy_code                    0.000000\n",
       "acc_now_delinq                 0.000000\n",
       "chargeoff_within_12_mths       0.145164\n",
       "delinq_amnt                    0.000000\n",
       "pub_rec_bankruptcies           1.806776\n",
       "tax_liens                      0.101097\n",
       "dtype: float64"
      ]
     },
     "execution_count": 13,
     "metadata": {},
     "output_type": "execute_result"
    }
   ],
   "source": [
    "loan_fc.isna().sum()/len(loan_fc)*100"
   ]
  },
  {
   "cell_type": "markdown",
   "id": "b2686cd6",
   "metadata": {},
   "source": [
    "##### Remove records with over 60% missing values"
   ]
  },
  {
   "cell_type": "markdown",
   "id": "17e1bab3",
   "metadata": {},
   "source": [
    "Imputation might lead to an increased noise for these features"
   ]
  },
  {
   "cell_type": "code",
   "execution_count": 14,
   "id": "2db740a8",
   "metadata": {},
   "outputs": [
    {
     "data": {
      "text/plain": [
       "(38577, 33)"
      ]
     },
     "execution_count": 14,
     "metadata": {},
     "output_type": "execute_result"
    }
   ],
   "source": [
    "loan_fc.drop(columns=['mths_since_last_delinq','mths_since_last_record'], inplace=True)\n",
    "loan_fc.shape"
   ]
  },
  {
   "cell_type": "markdown",
   "id": "6f61a48f",
   "metadata": {},
   "source": [
    "##### Find duplicates in 'id' column"
   ]
  },
  {
   "cell_type": "code",
   "execution_count": 15,
   "id": "ae6270c2",
   "metadata": {},
   "outputs": [
    {
     "data": {
      "text/plain": [
       "0"
      ]
     },
     "execution_count": 15,
     "metadata": {},
     "output_type": "execute_result"
    }
   ],
   "source": [
    "loan_fc.duplicated(subset=['id']).sum()\n",
    "# No duplicates"
   ]
  },
  {
   "cell_type": "markdown",
   "id": "e13d91f4",
   "metadata": {},
   "source": [
    "##### Remove '%' from int_rate"
   ]
  },
  {
   "cell_type": "code",
   "execution_count": 16,
   "id": "4fd75e65",
   "metadata": {
    "scrolled": true
   },
   "outputs": [
    {
     "data": {
      "text/plain": [
       "0        10.65\n",
       "1        15.27\n",
       "2        15.96\n",
       "3        13.49\n",
       "5         7.90\n",
       "         ...  \n",
       "39712     8.07\n",
       "39713    10.28\n",
       "39714     8.07\n",
       "39715     7.43\n",
       "39716    13.75\n",
       "Name: int_rate, Length: 38577, dtype: float64"
      ]
     },
     "execution_count": 16,
     "metadata": {},
     "output_type": "execute_result"
    }
   ],
   "source": [
    "loan_fc.int_rate = loan_fc.int_rate.apply(lambda x: float(x[:-1]))\n",
    "loan_fc.int_rate"
   ]
  },
  {
   "cell_type": "markdown",
   "id": "97f063e6",
   "metadata": {},
   "source": [
    "##### Remove other columns that do not add value to our analysis"
   ]
  },
  {
   "cell_type": "markdown",
   "id": "c0ecaf71",
   "metadata": {},
   "source": [
    "Remove *'id', 'member_id', 'url', 'pymnt_plan', 'initial_list_status', 'policy_code', 'zip_code'...* columns as they do not add any value to our analysis"
   ]
  },
  {
   "cell_type": "code",
   "execution_count": 17,
   "id": "3ae847e4",
   "metadata": {},
   "outputs": [],
   "source": [
    "loan_fc.drop(columns=['id','member_id','url', 'pymnt_plan','zip_code', 'initial_list_status', 'policy_code', 'acc_now_delinq','chargeoff_within_12_mths','delinq_amnt','tax_liens','collections_12_mths_ex_med','emp_title','desc','title'], inplace=True)"
   ]
  },
  {
   "cell_type": "markdown",
   "id": "213cdd1a",
   "metadata": {},
   "source": [
    "### Data Imputation"
   ]
  },
  {
   "cell_type": "code",
   "execution_count": 18,
   "id": "8d821ca6",
   "metadata": {
    "scrolled": false
   },
   "outputs": [
    {
     "name": "stdout",
     "output_type": "stream",
     "text": [
      "<class 'pandas.core.frame.DataFrame'>\n",
      "Int64Index: 38577 entries, 0 to 39716\n",
      "Data columns (total 18 columns):\n",
      " #   Column                Non-Null Count  Dtype  \n",
      "---  ------                --------------  -----  \n",
      " 0   loan_amnt             38577 non-null  int64  \n",
      " 1   funded_amnt           38577 non-null  int64  \n",
      " 2   funded_amnt_inv       38577 non-null  float64\n",
      " 3   term                  38577 non-null  object \n",
      " 4   int_rate              38577 non-null  float64\n",
      " 5   installment           38577 non-null  float64\n",
      " 6   grade                 38577 non-null  object \n",
      " 7   sub_grade             38577 non-null  object \n",
      " 8   emp_length            37544 non-null  object \n",
      " 9   home_ownership        38577 non-null  object \n",
      " 10  annual_inc            38577 non-null  float64\n",
      " 11  verification_status   38577 non-null  object \n",
      " 12  issue_d               38577 non-null  object \n",
      " 13  loan_status           38577 non-null  object \n",
      " 14  purpose               38577 non-null  object \n",
      " 15  addr_state            38577 non-null  object \n",
      " 16  dti                   38577 non-null  float64\n",
      " 17  pub_rec_bankruptcies  37880 non-null  float64\n",
      "dtypes: float64(6), int64(2), object(10)\n",
      "memory usage: 5.6+ MB\n"
     ]
    }
   ],
   "source": [
    "loan_fc.info()"
   ]
  },
  {
   "cell_type": "markdown",
   "id": "9488dd28",
   "metadata": {},
   "source": [
    "*Here, 2 columns, 'emp_length' and 'pub_rec_bankruptcies' have some missing values*"
   ]
  },
  {
   "cell_type": "markdown",
   "id": "26eac2f0",
   "metadata": {},
   "source": [
    "##### Fill the gaps in emp_length"
   ]
  },
  {
   "cell_type": "code",
   "execution_count": 19,
   "id": "9620fc5a",
   "metadata": {},
   "outputs": [
    {
     "data": {
      "text/plain": [
       "1033"
      ]
     },
     "execution_count": 19,
     "metadata": {},
     "output_type": "execute_result"
    }
   ],
   "source": [
    "loan_fc.emp_length.isna().sum()\n",
    "\n",
    "# It has 1033 missing values (NaN)"
   ]
  },
  {
   "cell_type": "code",
   "execution_count": 20,
   "id": "0799bd51",
   "metadata": {},
   "outputs": [
    {
     "data": {
      "text/plain": [
       "10+ years    8488\n",
       "< 1 year     4508\n",
       "2 years      4291\n",
       "3 years      4012\n",
       "4 years      3342\n",
       "5 years      3194\n",
       "1 year       3169\n",
       "6 years      2168\n",
       "7 years      1711\n",
       "8 years      1435\n",
       "9 years      1226\n",
       "NaN          1033\n",
       "Name: emp_length, dtype: int64"
      ]
     },
     "execution_count": 20,
     "metadata": {},
     "output_type": "execute_result"
    }
   ],
   "source": [
    "loan_fc.emp_length.value_counts(dropna=False)"
   ]
  },
  {
   "cell_type": "code",
   "execution_count": 21,
   "id": "9ee55814",
   "metadata": {},
   "outputs": [],
   "source": [
    "# Fill the NaN records with 'Not Available'\n",
    "loan_fc.emp_length.fillna(value='Not Available', inplace=True)"
   ]
  },
  {
   "cell_type": "markdown",
   "id": "7ecf824c",
   "metadata": {},
   "source": [
    "##### Fill the gaps in pub_rec_bankruptcies"
   ]
  },
  {
   "cell_type": "code",
   "execution_count": 22,
   "id": "abea75f2",
   "metadata": {},
   "outputs": [
    {
     "data": {
      "text/plain": [
       "697"
      ]
     },
     "execution_count": 22,
     "metadata": {},
     "output_type": "execute_result"
    }
   ],
   "source": [
    "loan_fc.pub_rec_bankruptcies.isna().sum()"
   ]
  },
  {
   "cell_type": "code",
   "execution_count": 23,
   "id": "d7a19dae",
   "metadata": {},
   "outputs": [
    {
     "data": {
      "text/plain": [
       "0.0    36238\n",
       "1.0     1637\n",
       "NaN      697\n",
       "2.0        5\n",
       "Name: pub_rec_bankruptcies, dtype: int64"
      ]
     },
     "execution_count": 23,
     "metadata": {},
     "output_type": "execute_result"
    }
   ],
   "source": [
    "loan_fc.pub_rec_bankruptcies.value_counts(dropna=False)"
   ]
  },
  {
   "cell_type": "code",
   "execution_count": 24,
   "id": "b572a870",
   "metadata": {},
   "outputs": [],
   "source": [
    "loan_fc.pub_rec_bankruptcies.fillna(value='Not Available', inplace=True)"
   ]
  },
  {
   "cell_type": "markdown",
   "id": "cabb6784",
   "metadata": {},
   "source": [
    "##### Convert from object to Category type"
   ]
  },
  {
   "cell_type": "code",
   "execution_count": 26,
   "id": "0f3fdf80",
   "metadata": {},
   "outputs": [],
   "source": [
    "loan_fc['loan_status'] = loan_fc['loan_status'].astype('category')\n",
    "\n",
    "loan_fc.verification_status = loan_fc.verification_status.astype('category')\n",
    "\n",
    "loan_fc.term = loan_fc.term.astype('category')\n",
    "\n",
    "loan_fc.grade = loan_fc.grade.astype('category')\n",
    "\n",
    "loan_fc.sub_grade = loan_fc.sub_grade.astype('category')\n",
    "\n",
    "loan_fc.emp_length  = loan_fc.emp_length .astype('category')\n",
    "\n",
    "loan_fc.pub_rec_bankruptcies  = loan_fc.pub_rec_bankruptcies .astype('category')\n",
    "\n",
    "loan_fc.home_ownership  = loan_fc.home_ownership .astype('category')\n",
    "\n",
    "loan_fc.purpose  = loan_fc.purpose .astype('category')\n",
    "\n",
    "loan_fc.addr_state  = loan_fc.addr_state .astype('category')"
   ]
  },
  {
   "cell_type": "code",
   "execution_count": 27,
   "id": "6dd496ba",
   "metadata": {},
   "outputs": [],
   "source": [
    "loan_fc.issue_d = pd.to_datetime(loan_fc.issue_d, format ='%b-%y')"
   ]
  },
  {
   "cell_type": "code",
   "execution_count": 28,
   "id": "4f56da79",
   "metadata": {},
   "outputs": [
    {
     "name": "stdout",
     "output_type": "stream",
     "text": [
      "<class 'pandas.core.frame.DataFrame'>\n",
      "Int64Index: 38577 entries, 0 to 39716\n",
      "Data columns (total 18 columns):\n",
      " #   Column                Non-Null Count  Dtype         \n",
      "---  ------                --------------  -----         \n",
      " 0   loan_amnt             38577 non-null  int64         \n",
      " 1   funded_amnt           38577 non-null  int64         \n",
      " 2   funded_amnt_inv       38577 non-null  float64       \n",
      " 3   term                  38577 non-null  category      \n",
      " 4   int_rate              38577 non-null  float64       \n",
      " 5   installment           38577 non-null  float64       \n",
      " 6   grade                 38577 non-null  category      \n",
      " 7   sub_grade             38577 non-null  category      \n",
      " 8   emp_length            38577 non-null  category      \n",
      " 9   home_ownership        38577 non-null  category      \n",
      " 10  annual_inc            38577 non-null  float64       \n",
      " 11  verification_status   38577 non-null  category      \n",
      " 12  issue_d               38577 non-null  datetime64[ns]\n",
      " 13  loan_status           38577 non-null  category      \n",
      " 14  purpose               38577 non-null  category      \n",
      " 15  addr_state            38577 non-null  category      \n",
      " 16  dti                   38577 non-null  float64       \n",
      " 17  pub_rec_bankruptcies  38577 non-null  category      \n",
      "dtypes: category(10), datetime64[ns](1), float64(5), int64(2)\n",
      "memory usage: 3.0 MB\n"
     ]
    }
   ],
   "source": [
    "# Check for any more null records\n",
    "loan_fc.info()"
   ]
  },
  {
   "cell_type": "markdown",
   "id": "dda73460",
   "metadata": {},
   "source": [
    "### Derived Columns"
   ]
  },
  {
   "cell_type": "markdown",
   "id": "a9e9e0d2",
   "metadata": {},
   "source": [
    "##### Extract Year & Month from the loan issue date"
   ]
  },
  {
   "cell_type": "code",
   "execution_count": 29,
   "id": "dd07dc62",
   "metadata": {
    "scrolled": true
   },
   "outputs": [
    {
     "data": {
      "text/plain": [
       "0       2011-12-01\n",
       "1       2011-12-01\n",
       "2       2011-12-01\n",
       "3       2011-12-01\n",
       "5       2011-12-01\n",
       "           ...    \n",
       "39712   2007-07-01\n",
       "39713   2007-07-01\n",
       "39714   2007-07-01\n",
       "39715   2007-07-01\n",
       "39716   2007-06-01\n",
       "Name: issue_d, Length: 38577, dtype: datetime64[ns]"
      ]
     },
     "execution_count": 29,
     "metadata": {},
     "output_type": "execute_result"
    }
   ],
   "source": [
    "loan_fc.issue_d"
   ]
  },
  {
   "cell_type": "markdown",
   "id": "0653cb99",
   "metadata": {},
   "source": [
    "##### Year"
   ]
  },
  {
   "cell_type": "code",
   "execution_count": 30,
   "id": "3620997e",
   "metadata": {
    "scrolled": true
   },
   "outputs": [
    {
     "data": {
      "text/plain": [
       "0    2011\n",
       "1    2011\n",
       "2    2011\n",
       "3    2011\n",
       "5    2011\n",
       "Name: Year, dtype: int64"
      ]
     },
     "execution_count": 30,
     "metadata": {},
     "output_type": "execute_result"
    }
   ],
   "source": [
    "import datetime \n",
    "loan_fc['Year'] = loan_fc['issue_d'].map(lambda x: x.year)\n",
    "loan_fc['Year'].head()"
   ]
  },
  {
   "cell_type": "markdown",
   "id": "97861c50",
   "metadata": {},
   "source": [
    "##### Month"
   ]
  },
  {
   "cell_type": "code",
   "execution_count": 31,
   "id": "d78f012f",
   "metadata": {},
   "outputs": [
    {
     "data": {
      "text/plain": [
       "0    12\n",
       "1    12\n",
       "2    12\n",
       "3    12\n",
       "5    12\n",
       "Name: Month, dtype: int64"
      ]
     },
     "execution_count": 31,
     "metadata": {},
     "output_type": "execute_result"
    }
   ],
   "source": [
    "loan_fc['Month'] = loan_fc['issue_d'].map(lambda x: x.month)\n",
    "loan_fc['Month'].head()"
   ]
  },
  {
   "cell_type": "markdown",
   "id": "0c89bc50",
   "metadata": {},
   "source": [
    "##### Split up loan amount into categories"
   ]
  },
  {
   "cell_type": "code",
   "execution_count": 32,
   "id": "cc6942a5",
   "metadata": {},
   "outputs": [],
   "source": [
    "# Split loan amounts into 5 categories\n",
    "loan_fc['loan_amnt_category'] = pd.cut(loan['loan_amnt'], [0, 7000, 14000, 21000, 28000, np.inf], labels=['0-7k', '7k-14k', '14k-21k', '21k-28k', '28k+'])"
   ]
  },
  {
   "cell_type": "markdown",
   "id": "80dc9016",
   "metadata": {},
   "source": [
    "##### Split up annual income into categories"
   ]
  },
  {
   "cell_type": "code",
   "execution_count": 33,
   "id": "e7c1c09b",
   "metadata": {},
   "outputs": [],
   "source": [
    "# Split annual incomes into 5 categories\n",
    "loan_fc['annual_inc_category'] = pd.cut(loan['annual_inc'], [0, 20000, 40000, 60000, 80000,np.inf], labels=['0-20k', '20k-40k', '40k-60k', '60k-80k', '80k+'])"
   ]
  },
  {
   "cell_type": "markdown",
   "id": "6d99fd34",
   "metadata": {},
   "source": [
    "##### Split up interest rates into categories"
   ]
  },
  {
   "cell_type": "code",
   "execution_count": 35,
   "id": "a59a874d",
   "metadata": {},
   "outputs": [],
   "source": [
    "# Split interest rates into 4 categories\n",
    "loan_fc['int_rate_category'] = pd.cut(loan_fc['int_rate'], [0, 5, 10, 15, 20], labels=['0-5%', '5-10%', '10-15%', '15%+'])"
   ]
  },
  {
   "cell_type": "markdown",
   "id": "47a2e6a4",
   "metadata": {},
   "source": [
    "##### Split dti into 5 categories"
   ]
  },
  {
   "cell_type": "code",
   "execution_count": 36,
   "id": "ba47f1bb",
   "metadata": {},
   "outputs": [],
   "source": [
    "# Split dti into 5 categories\n",
    "loan_fc['int_rate_category'] = pd.cut(loan['dti'], [0, 5, 10, 15, 20, np.inf], labels=['0-5', '5-10', '10-15', '15-20', '20+'])"
   ]
  },
  {
   "cell_type": "markdown",
   "id": "e82f0159",
   "metadata": {},
   "source": [
    "### Features Split-up"
   ]
  },
  {
   "cell_type": "code",
   "execution_count": 37,
   "id": "73b8be0b",
   "metadata": {
    "scrolled": true
   },
   "outputs": [
    {
     "name": "stdout",
     "output_type": "stream",
     "text": [
      "<class 'pandas.core.frame.DataFrame'>\n",
      "Int64Index: 38577 entries, 0 to 39716\n",
      "Data columns (total 23 columns):\n",
      " #   Column                Non-Null Count  Dtype         \n",
      "---  ------                --------------  -----         \n",
      " 0   loan_amnt             38577 non-null  int64         \n",
      " 1   funded_amnt           38577 non-null  int64         \n",
      " 2   funded_amnt_inv       38577 non-null  float64       \n",
      " 3   term                  38577 non-null  category      \n",
      " 4   int_rate              38577 non-null  float64       \n",
      " 5   installment           38577 non-null  float64       \n",
      " 6   grade                 38577 non-null  category      \n",
      " 7   sub_grade             38577 non-null  category      \n",
      " 8   emp_length            38577 non-null  category      \n",
      " 9   home_ownership        38577 non-null  category      \n",
      " 10  annual_inc            38577 non-null  float64       \n",
      " 11  verification_status   38577 non-null  category      \n",
      " 12  issue_d               38577 non-null  datetime64[ns]\n",
      " 13  loan_status           38577 non-null  category      \n",
      " 14  purpose               38577 non-null  category      \n",
      " 15  addr_state            38577 non-null  category      \n",
      " 16  dti                   38577 non-null  float64       \n",
      " 17  pub_rec_bankruptcies  38577 non-null  category      \n",
      " 18  Year                  38577 non-null  int64         \n",
      " 19  Month                 38577 non-null  int64         \n",
      " 20  loan_amnt_category    38577 non-null  category      \n",
      " 21  annual_inc_category   38577 non-null  category      \n",
      " 22  int_rate_category     38399 non-null  category      \n",
      "dtypes: category(13), datetime64[ns](1), float64(5), int64(4)\n",
      "memory usage: 3.7 MB\n"
     ]
    }
   ],
   "source": [
    "loan_fc.info()"
   ]
  },
  {
   "cell_type": "code",
   "execution_count": 38,
   "id": "efc8deb2",
   "metadata": {},
   "outputs": [
    {
     "data": {
      "text/plain": [
       "loan_amnt                        int64\n",
       "funded_amnt                      int64\n",
       "funded_amnt_inv                float64\n",
       "term                          category\n",
       "int_rate                       float64\n",
       "installment                    float64\n",
       "grade                         category\n",
       "sub_grade                     category\n",
       "emp_length                    category\n",
       "home_ownership                category\n",
       "annual_inc                     float64\n",
       "verification_status           category\n",
       "issue_d                 datetime64[ns]\n",
       "loan_status                   category\n",
       "purpose                       category\n",
       "addr_state                    category\n",
       "dti                            float64\n",
       "pub_rec_bankruptcies          category\n",
       "Year                             int64\n",
       "Month                            int64\n",
       "loan_amnt_category            category\n",
       "annual_inc_category           category\n",
       "int_rate_category             category\n",
       "dtype: object"
      ]
     },
     "execution_count": 38,
     "metadata": {},
     "output_type": "execute_result"
    }
   ],
   "source": [
    "loan_fc.dtypes"
   ]
  },
  {
   "cell_type": "markdown",
   "id": "b95ffb60",
   "metadata": {},
   "source": [
    "### Categorical Features"
   ]
  },
  {
   "cell_type": "code",
   "execution_count": 39,
   "id": "04db76bf",
   "metadata": {},
   "outputs": [],
   "source": [
    "# loan_fc.dtypes[loan_fc.dtypes == 'category']"
   ]
  },
  {
   "cell_type": "markdown",
   "id": "915f17a8",
   "metadata": {},
   "source": [
    " - 'term'\n",
    " - 'grade'\n",
    " - 'sub_grade'\n",
    " - 'emp_length'\n",
    " - 'home_ownership'\n",
    " - 'verification_status'\n",
    " - 'loan_status'\n",
    " - 'purpose'\n",
    " - 'addr_state'\n",
    " - 'pub_rec_bankruptcies'"
   ]
  },
  {
   "cell_type": "markdown",
   "id": "acdf74c7",
   "metadata": {},
   "source": [
    "#### Numercial Features"
   ]
  },
  {
   "cell_type": "markdown",
   "id": "10b8e97f",
   "metadata": {},
   "source": [
    "- loan_amnt\n",
    "- funded_amnt\n",
    "- funded_amnt_inv\n",
    "- int_rate\n",
    "- installment\n",
    "- annual_inc\n",
    "- dti\n",
    "- pub_rec_bankruptcies\n",
    "- Year\n",
    "- Month"
   ]
  },
  {
   "cell_type": "markdown",
   "id": "0c664305",
   "metadata": {},
   "source": [
    "### Detecting Outliers"
   ]
  },
  {
   "cell_type": "markdown",
   "id": "25b8c99c",
   "metadata": {},
   "source": [
    "##### Loan Amount"
   ]
  },
  {
   "cell_type": "code",
   "execution_count": 40,
   "id": "a566f455",
   "metadata": {},
   "outputs": [
    {
     "data": {
      "text/plain": [
       "count    38577.000000\n",
       "mean     11047.025430\n",
       "std       7348.441646\n",
       "min        500.000000\n",
       "25%       5300.000000\n",
       "50%       9600.000000\n",
       "75%      15000.000000\n",
       "max      35000.000000\n",
       "Name: loan_amnt, dtype: float64"
      ]
     },
     "execution_count": 40,
     "metadata": {},
     "output_type": "execute_result"
    }
   ],
   "source": [
    "loan_fc['loan_amnt'].describe()"
   ]
  },
  {
   "cell_type": "code",
   "execution_count": 41,
   "id": "fd09d2e5",
   "metadata": {},
   "outputs": [
    {
     "data": {
      "text/plain": [
       "<AxesSubplot:xlabel='loan_amnt'>"
      ]
     },
     "execution_count": 41,
     "metadata": {},
     "output_type": "execute_result"
    },
    {
     "data": {
      "image/png": "[encoded data removed]",
      "text/plain": [
       "<Figure size 432x288 with 1 Axes>"
      ]
     },
     "metadata": {},
     "output_type": "display_data"
    }
   ],
   "source": [
    "sns.set_theme(style=\"whitegrid\")\n",
    "sns.boxplot(x=loan_fc.loan_amnt)"
   ]
  },
  {
   "cell_type": "markdown",
   "id": "47ed798c",
   "metadata": {},
   "source": [
    "*We see outliers when the loan amount is higher than 30,000 and they are not too extreme.*"
   ]
  },
  {
   "cell_type": "markdown",
   "id": "890a9efd",
   "metadata": {},
   "source": [
    "##### Annual Income"
   ]
  },
  {
   "cell_type": "code",
   "execution_count": 42,
   "id": "a0aee82b",
   "metadata": {},
   "outputs": [],
   "source": [
    "pd.set_option('display.float_format', lambda x: '%.2f' % x)"
   ]
  },
  {
   "cell_type": "code",
   "execution_count": 43,
   "id": "7bbce59e",
   "metadata": {},
   "outputs": [
    {
     "data": {
      "text/plain": [
       "count     38577.00\n",
       "mean      68777.97\n",
       "std       64218.68\n",
       "min        4000.00\n",
       "25%       40000.00\n",
       "50%       58868.00\n",
       "75%       82000.00\n",
       "max     6000000.00\n",
       "Name: annual_inc, dtype: float64"
      ]
     },
     "execution_count": 43,
     "metadata": {},
     "output_type": "execute_result"
    }
   ],
   "source": [
    "loan_fc['annual_inc'].describe()"
   ]
  },
  {
   "cell_type": "code",
   "execution_count": 44,
   "id": "3d965c60",
   "metadata": {},
   "outputs": [
    {
     "data": {
      "text/plain": [
       "<AxesSubplot:xlabel='annual_inc'>"
      ]
     },
     "execution_count": 44,
     "metadata": {},
     "output_type": "execute_result"
    },
    {
     "data": {
      "image/png": "[encoded data removed]",
      "text/plain": [
       "<Figure size 432x288 with 1 Axes>"
      ]
     },
     "metadata": {},
     "output_type": "display_data"
    }
   ],
   "source": [
    "sns.boxplot(x=loan_fc.annual_inc)"
   ]
  },
  {
   "cell_type": "markdown",
   "id": "054c5adc",
   "metadata": {},
   "source": [
    "- *Upto 75% of annual income fall under 82000.*\n",
    "- *There are extreme outliers beyond the annual Income of 200,000*"
   ]
  },
  {
   "cell_type": "markdown",
   "id": "2935b55e",
   "metadata": {},
   "source": [
    "##### Remove outliers from annual income"
   ]
  },
  {
   "cell_type": "code",
   "execution_count": 45,
   "id": "2d221797",
   "metadata": {},
   "outputs": [
    {
     "data": {
      "text/plain": [
       "<AxesSubplot:xlabel='annual_inc'>"
      ]
     },
     "execution_count": 45,
     "metadata": {},
     "output_type": "execute_result"
    },
    {
     "data": {
      "image/png": "[encoded data removed]",
      "text/plain": [
       "<Figure size 432x288 with 1 Axes>"
      ]
     },
     "metadata": {},
     "output_type": "display_data"
    }
   ],
   "source": [
    "loan_fc = loan_fc[loan_fc.annual_inc < 200000]\n",
    "sns.boxplot(data = loan_fc, x='annual_inc')"
   ]
  },
  {
   "cell_type": "markdown",
   "id": "1966d570",
   "metadata": {},
   "source": [
    "##### Interest Rate"
   ]
  },
  {
   "cell_type": "code",
   "execution_count": 46,
   "id": "d48861cb",
   "metadata": {},
   "outputs": [
    {
     "data": {
      "text/plain": [
       "count   37888.00\n",
       "mean       11.91\n",
       "std         3.68\n",
       "min         5.42\n",
       "25%         8.94\n",
       "50%        11.71\n",
       "75%        14.35\n",
       "max        24.40\n",
       "Name: int_rate, dtype: float64"
      ]
     },
     "execution_count": 46,
     "metadata": {},
     "output_type": "execute_result"
    }
   ],
   "source": [
    "loan_fc.int_rate.describe()"
   ]
  },
  {
   "cell_type": "code",
   "execution_count": 47,
   "id": "cec00caa",
   "metadata": {},
   "outputs": [
    {
     "data": {
      "text/plain": [
       "<AxesSubplot:xlabel='int_rate'>"
      ]
     },
     "execution_count": 47,
     "metadata": {},
     "output_type": "execute_result"
    },
    {
     "data": {
      "image/png": "[encoded data removed]",
      "text/plain": [
       "<Figure size 432x288 with 1 Axes>"
      ]
     },
     "metadata": {},
     "output_type": "display_data"
    }
   ],
   "source": [
    "sns.boxplot(x=loan_fc.int_rate)"
   ]
  },
  {
   "cell_type": "markdown",
   "id": "4d20618f",
   "metadata": {},
   "source": [
    "*Interest Rate don't have extreme outliers.*"
   ]
  },
  {
   "cell_type": "markdown",
   "id": "1533617b",
   "metadata": {},
   "source": [
    "##### Relation between other numerical variables"
   ]
  },
  {
   "cell_type": "code",
   "execution_count": 48,
   "id": "5d2dd6bf",
   "metadata": {},
   "outputs": [
    {
     "data": {
      "text/plain": [
       "<AxesSubplot:>"
      ]
     },
     "execution_count": 48,
     "metadata": {},
     "output_type": "execute_result"
    },
    {
     "data": {
      "image/png": "[encoded data removed]",
      "text/plain": [
       "<Figure size 648x504 with 2 Axes>"
      ]
     },
     "metadata": {},
     "output_type": "display_data"
    }
   ],
   "source": [
    "plt.figure(figsize=[9,7])\n",
    "sns.heatmap(data=loan_fc.corr(), annot=True, cmap=\"YlGnBu\")"
   ]
  },
  {
   "cell_type": "markdown",
   "id": "4c3d2bea",
   "metadata": {},
   "source": [
    "*Observations:*\n",
    " - *loan_amnt, funded_amnt and funded_amnt_inv are closely correlated*\n",
    " - *installment is also highly correlated with loan_amnt, funded_amnt and funded_amnt_inv*\n",
    " - *annual_inc also share some correlation with loan_amnt, funded_amnt and funded_amnt_inv and installment*\n",
    " - *annual_inc shares a negative correlation with dti i.e if annual income is low, DTI is high*\n",
    " - *funded_amnt_inv have some correlation with Year*"
   ]
  },
  {
   "cell_type": "markdown",
   "id": "a48b33f0",
   "metadata": {},
   "source": [
    "### Univariate Analysis"
   ]
  },
  {
   "cell_type": "markdown",
   "id": "12b89b55",
   "metadata": {},
   "source": [
    "##### Compare the 3 amounts - loan_amnt, funded_amnt, and funded_amnt_inv"
   ]
  },
  {
   "cell_type": "code",
   "execution_count": 49,
   "id": "6f54af95",
   "metadata": {},
   "outputs": [
    {
     "data": {
      "image/png": "[encoded data removed]",
      "text/plain": [
       "<Figure size 1440x540 with 3 Axes>"
      ]
     },
     "metadata": {},
     "output_type": "display_data"
    }
   ],
   "source": [
    "# Create multiple subplots.\n",
    "# Add multiple plots to the same graph\n",
    "\n",
    "fig, axes = plt.subplots(1, 3, sharey=True, figsize=(20, 7.5))\n",
    "\n",
    "# create histplot in each subplot\n",
    "sns.histplot(data=loan_fc, x='loan_amnt', ax=axes[0])\n",
    "sns.histplot(data=loan_fc, x='funded_amnt', ax=axes[1])\n",
    "sns.histplot(data=loan_fc, x='funded_amnt_inv', ax=axes[2])\n",
    "\n",
    "fig.suptitle('Loan Amount vs Funded Amount vs Invested Funded Amount',\n",
    "             fontdict={'fontsize': 75, 'fontweight': 15, 'color': 'brown'})\n",
    "\n",
    "plt.show()"
   ]
  },
  {
   "cell_type": "markdown",
   "id": "92306815",
   "metadata": {},
   "source": [
    "*Observations:*\n",
    "- *All 3 amounts have similar distribution*\n",
    "- *As all 3 are highly correlated (as seen earlier), we could stick with 'loan_amnt' for the rest of our analysis.*"
   ]
  },
  {
   "cell_type": "markdown",
   "id": "19f0f1e9",
   "metadata": {},
   "source": [
    "##### Univariate Analysis on Loan Status"
   ]
  },
  {
   "cell_type": "code",
   "execution_count": 50,
   "id": "bc30859b",
   "metadata": {},
   "outputs": [
    {
     "data": {
      "text/plain": [
       "Fully Paid    85.34\n",
       "Charged Off   14.66\n",
       "Name: loan_status, dtype: float64"
      ]
     },
     "execution_count": 50,
     "metadata": {},
     "output_type": "execute_result"
    }
   ],
   "source": [
    "loan_fc[\"loan_status\"].value_counts(normalize=True)*100"
   ]
  },
  {
   "cell_type": "code",
   "execution_count": 51,
   "id": "36f5dbcc",
   "metadata": {
    "scrolled": true
   },
   "outputs": [
    {
     "data": {
      "image/png": "[encoded data removed]",
      "text/plain": [
       "<Figure size 432x288 with 1 Axes>"
      ]
     },
     "metadata": {},
     "output_type": "display_data"
    }
   ],
   "source": [
    "import matplotlib.style as style\n",
    "sns.set_context('talk') \n",
    "\n",
    "sns.countplot(data=loan_fc, x='loan_status', palette=(\"Paired_r\"))\n",
    "\n",
    "plt.title('Loan Status\\n', fontdict={'fontsize':15, 'fontweight':10, 'color':'brown'})\n",
    "\n",
    "plt.show()"
   ]
  },
  {
   "cell_type": "markdown",
   "id": "ad340118",
   "metadata": {},
   "source": [
    "*Observation:*\n",
    " - *85.4% of applicants paid their full loan while 14.6% were defaulters*"
   ]
  },
  {
   "cell_type": "markdown",
   "id": "ef71f265",
   "metadata": {},
   "source": [
    "##### Univariate Analysis on Loan Amount"
   ]
  },
  {
   "cell_type": "code",
   "execution_count": 52,
   "id": "e9c1b920",
   "metadata": {
    "scrolled": true
   },
   "outputs": [
    {
     "data": {
      "text/plain": [
       "10000    2773\n",
       "12000    2213\n",
       "5000     2010\n",
       "6000     1871\n",
       "15000    1796\n",
       "Name: loan_amnt, dtype: int64"
      ]
     },
     "execution_count": 52,
     "metadata": {},
     "output_type": "execute_result"
    }
   ],
   "source": [
    "loan_fc.loan_amnt.value_counts().head()"
   ]
  },
  {
   "cell_type": "code",
   "execution_count": 53,
   "id": "1e96cb8c",
   "metadata": {
    "scrolled": true
   },
   "outputs": [
    {
     "data": {
      "text/plain": [
       "count   37888.00\n",
       "mean    10902.73\n",
       "std      7223.89\n",
       "min       500.00\n",
       "25%      5125.00\n",
       "50%      9600.00\n",
       "75%     15000.00\n",
       "max     35000.00\n",
       "Name: loan_amnt, dtype: float64"
      ]
     },
     "execution_count": 53,
     "metadata": {},
     "output_type": "execute_result"
    }
   ],
   "source": [
    "loan_fc.loan_amnt.describe()"
   ]
  },
  {
   "cell_type": "code",
   "execution_count": 54,
   "id": "01f6148c",
   "metadata": {},
   "outputs": [
    {
     "data": {
      "image/png": "[encoded data removed]",
      "text/plain": [
       "<Figure size 864x324 with 2 Axes>"
      ]
     },
     "metadata": {},
     "output_type": "display_data"
    }
   ],
   "source": [
    "fig, axes = plt.subplots(1, 2, figsize=(12, 4.5))\n",
    "\n",
    "sns.histplot(data=loan_fc, x='loan_amnt', ax=axes[0], palette=(\"Paired_r\"))\n",
    "sns.boxplot(data=loan_fc, x='loan_amnt', ax=axes[1], palette=(\"Paired_r\"))\n",
    "\n",
    "fig.suptitle('Distribution of Loan Amount',\n",
    "             fontdict={'color': 'brown'})\n",
    "\n",
    "plt.show()"
   ]
  },
  {
   "cell_type": "markdown",
   "id": "970cd5f9",
   "metadata": {},
   "source": [
    "*Observation*\n",
    " - *Loans for 10,000 USD have been the highest followed by 12,000 and 5,000 USD*\n",
    " - *Loans between 5,000-15,000 USD range have been applied for the most*"
   ]
  },
  {
   "cell_type": "markdown",
   "id": "a3141a17",
   "metadata": {},
   "source": [
    "##### Univariate Analysis on Annual Income"
   ]
  },
  {
   "cell_type": "code",
   "execution_count": 55,
   "id": "09d685aa",
   "metadata": {},
   "outputs": [
    {
     "data": {
      "text/plain": [
       "60000.00    1466\n",
       "50000.00    1029\n",
       "40000.00     855\n",
       "45000.00     811\n",
       "30000.00     808\n",
       "Name: annual_inc, dtype: int64"
      ]
     },
     "execution_count": 55,
     "metadata": {},
     "output_type": "execute_result"
    }
   ],
   "source": [
    "loan_fc.annual_inc.value_counts().head()"
   ]
  },
  {
   "cell_type": "code",
   "execution_count": 56,
   "id": "e55e9761",
   "metadata": {},
   "outputs": [
    {
     "data": {
      "text/plain": [
       "count    37888.00\n",
       "mean     64157.79\n",
       "std      32803.17\n",
       "min       4000.00\n",
       "25%      40000.00\n",
       "50%      57855.00\n",
       "75%      80000.00\n",
       "max     199992.00\n",
       "Name: annual_inc, dtype: float64"
      ]
     },
     "execution_count": 56,
     "metadata": {},
     "output_type": "execute_result"
    }
   ],
   "source": [
    "loan_fc.annual_inc.describe()"
   ]
  },
  {
   "cell_type": "code",
   "execution_count": 57,
   "id": "18fa63be",
   "metadata": {},
   "outputs": [
    {
     "data": {
      "image/png": "[encoded data removed]",
      "text/plain": [
       "<Figure size 864x324 with 2 Axes>"
      ]
     },
     "metadata": {},
     "output_type": "display_data"
    }
   ],
   "source": [
    "fig, axes = plt.subplots(1, 2, figsize=(12, 4.5))\n",
    "sns.histplot(data=loan_fc, x='annual_inc', ax=axes[0], palette=(\"Paired_r\"))\n",
    "sns.boxplot(data=loan_fc, x='annual_inc', ax=axes[1], palette=(\"Paired_r\"))\n",
    "\n",
    "fig.suptitle('Distribution of Annual Income',\n",
    "             fontdict={'color': 'brown'})\n",
    "\n",
    "plt.show()"
   ]
  },
  {
   "cell_type": "markdown",
   "id": "bac05eee",
   "metadata": {},
   "source": [
    "*Observation:*\n",
    " - *Applicants with an annual income of 60,000 USD have been the highest followed by 50,000 and 40,000 USD*\n",
    " - *Most of the borrowers have annual incomes between 40,000-80,000 USD*"
   ]
  },
  {
   "cell_type": "markdown",
   "id": "39135436",
   "metadata": {},
   "source": [
    "##### Univariate Analysis on Interest Rate"
   ]
  },
  {
   "cell_type": "code",
   "execution_count": 58,
   "id": "1f5ee00e",
   "metadata": {},
   "outputs": [
    {
     "data": {
      "text/plain": [
       "10.99    895\n",
       "7.51     780\n",
       "11.49    779\n",
       "13.49    740\n",
       "7.88     713\n",
       "Name: int_rate, dtype: int64"
      ]
     },
     "execution_count": 58,
     "metadata": {},
     "output_type": "execute_result"
    }
   ],
   "source": [
    "loan_fc.int_rate.value_counts().head()"
   ]
  },
  {
   "cell_type": "code",
   "execution_count": 59,
   "id": "e6cbd88a",
   "metadata": {},
   "outputs": [
    {
     "data": {
      "text/plain": [
       "count   37888.00\n",
       "mean       11.91\n",
       "std         3.68\n",
       "min         5.42\n",
       "25%         8.94\n",
       "50%        11.71\n",
       "75%        14.35\n",
       "max        24.40\n",
       "Name: int_rate, dtype: float64"
      ]
     },
     "execution_count": 59,
     "metadata": {},
     "output_type": "execute_result"
    }
   ],
   "source": [
    "loan_fc.int_rate.describe()"
   ]
  },
  {
   "cell_type": "code",
   "execution_count": 60,
   "id": "43b51ff1",
   "metadata": {
    "scrolled": true
   },
   "outputs": [
    {
     "data": {
      "image/png": "[encoded data removed]",
      "text/plain": [
       "<Figure size 864x324 with 2 Axes>"
      ]
     },
     "metadata": {},
     "output_type": "display_data"
    }
   ],
   "source": [
    "fig, axes = plt.subplots(1, 2, figsize=(12, 4.5))\n",
    "sns.histplot(data=loan_fc, x='int_rate', ax=axes[0], palette=(\"Paired_r\"))\n",
    "sns.boxplot(data=loan_fc, x='int_rate', ax=axes[1], palette=(\"Paired_r\"))\n",
    "\n",
    "fig.suptitle('Distribution of Interest Rate',\n",
    "             fontdict={'color': 'brown'})\n",
    "\n",
    "plt.show()"
   ]
  },
  {
   "cell_type": "markdown",
   "id": "4c1f84d9",
   "metadata": {},
   "source": [
    "*Observation:*\n",
    " - *10.99% is the most common interest rate*\n",
    " - *Interest rates usually varies between 8.94% and 14.35%*"
   ]
  },
  {
   "cell_type": "markdown",
   "id": "0fd691be",
   "metadata": {},
   "source": [
    "##### Univariate Analysis on Purpose"
   ]
  },
  {
   "cell_type": "code",
   "execution_count": 61,
   "id": "d4cdc477",
   "metadata": {},
   "outputs": [
    {
     "data": {
      "text/plain": [
       "debt_consolidation   47.00\n",
       "credit_card          13.06\n",
       "other                10.02\n",
       "home_improvement      7.26\n",
       "major_purchase        5.57\n",
       "Name: purpose, dtype: float64"
      ]
     },
     "execution_count": 61,
     "metadata": {},
     "output_type": "execute_result"
    }
   ],
   "source": [
    "(loan_fc.purpose.value_counts(normalize=True)*100).head()"
   ]
  },
  {
   "cell_type": "code",
   "execution_count": 62,
   "id": "e4bd397e",
   "metadata": {
    "scrolled": true
   },
   "outputs": [
    {
     "data": {
      "image/png": "[encoded data removed]",
      "text/plain": [
       "<Figure size 576x360 with 1 Axes>"
      ]
     },
     "metadata": {},
     "output_type": "display_data"
    }
   ],
   "source": [
    "plt.figure(figsize=[8,5])\n",
    "\n",
    "# sns.set_theme(style=\"darkgrid\")\n",
    "sns.color_palette(\"mako\", as_cmap=True)\n",
    "\n",
    "sns.countplot(data=loan_fc, y='purpose', hue='loan_status', palette=(\"Paired_r\"))\n",
    "\n",
    "plt.title('Purpose\\n', fontdict={'fontsize':15, 'fontweight':10, 'color':'brown'})\n",
    "plt.show()"
   ]
  },
  {
   "cell_type": "markdown",
   "id": "f7299a47",
   "metadata": {},
   "source": [
    "*Observation:*\n",
    " - *47% of borrowers have applied for loans for the purpose of 'Debt Consolidation' and 13% have asked loans to pay their for Credit Cards*\n",
    " - *Defaulters are highest for loans for 'Debt Consolidation'*"
   ]
  },
  {
   "cell_type": "markdown",
   "id": "753764b1",
   "metadata": {},
   "source": [
    "##### Univariate Analysis on Home Ownership"
   ]
  },
  {
   "cell_type": "code",
   "execution_count": 63,
   "id": "80e4e258",
   "metadata": {},
   "outputs": [
    {
     "data": {
      "text/plain": [
       "RENT       48.39\n",
       "MORTGAGE   43.62\n",
       "OWN         7.73\n",
       "OTHER       0.25\n",
       "NONE        0.01\n",
       "Name: home_ownership, dtype: float64"
      ]
     },
     "execution_count": 63,
     "metadata": {},
     "output_type": "execute_result"
    }
   ],
   "source": [
    "(loan_fc.home_ownership.value_counts(normalize=True)*100).head()"
   ]
  },
  {
   "cell_type": "code",
   "execution_count": 201,
   "id": "a7396787",
   "metadata": {},
   "outputs": [
    {
     "data": {
      "image/png": "[encoded data removed]",
      "text/plain": [
       "<Figure size 576x360 with 1 Axes>"
      ]
     },
     "metadata": {},
     "output_type": "display_data"
    }
   ],
   "source": [
    "plt.figure(figsize=[8,5])\n",
    "\n",
    "sns.set_theme(style=\"darkgrid\")\n",
    "sns.countplot(data=loan_fc, x='home_ownership', hue='loan_status', palette=(\"Paired_r\"))\n",
    "\n",
    "plt.title('Home Ownership\\n', fontdict={'fontsize':15, 'fontweight':10, 'color':'brown'})\n",
    "plt.legend(bbox_to_anchor = (0.85, 0.8))\n",
    "plt.show()"
   ]
  },
  {
   "cell_type": "markdown",
   "id": "46297b8a",
   "metadata": {},
   "source": [
    "*Observation:*\n",
    " - *People who own houses have the lowest default rate*\n",
    " - *Borrowers in Rental homes and those with mortgages have higher chances of not paying their loans*"
   ]
  },
  {
   "cell_type": "markdown",
   "id": "17642324",
   "metadata": {},
   "source": [
    "##### Univariate Analysis on Year"
   ]
  },
  {
   "cell_type": "code",
   "execution_count": 65,
   "id": "898429ca",
   "metadata": {},
   "outputs": [
    {
     "data": {
      "text/plain": [
       "2011    20153\n",
       "2010    11332\n",
       "2009     4625\n",
       "2008     1538\n",
       "2007      240\n",
       "Name: Year, dtype: int64"
      ]
     },
     "execution_count": 65,
     "metadata": {},
     "output_type": "execute_result"
    }
   ],
   "source": [
    "loan_fc.Year.value_counts()"
   ]
  },
  {
   "cell_type": "code",
   "execution_count": 66,
   "id": "57809bc2",
   "metadata": {
    "scrolled": false
   },
   "outputs": [
    {
     "data": {
      "image/png": "[encoded data removed]",
      "text/plain": [
       "<Figure size 576x360 with 1 Axes>"
      ]
     },
     "metadata": {},
     "output_type": "display_data"
    }
   ],
   "source": [
    "plt.figure(figsize=[8,5])\n",
    "\n",
    "sns.set_theme(style=\"darkgrid\")\n",
    "sns.countplot(data=loan_fc, x='Year', hue='loan_status', palette=(\"Paired_r\"))\n",
    "\n",
    "plt.title('Year\\n', fontdict={'fontsize':15, 'fontweight':10, 'color':'brown'})\n",
    "plt.show()"
   ]
  },
  {
   "cell_type": "markdown",
   "id": "752c2d74",
   "metadata": {},
   "source": [
    "*Observations:*\n",
    " - *The amount of loans applied has increased over the years*\n",
    " - *In the year 2007, 240 loans have been applied while in 2011 it crossed 20,000*\n",
    " - *Increase in loans also means increase in defaulters*"
   ]
  },
  {
   "cell_type": "markdown",
   "id": "89a2592c",
   "metadata": {},
   "source": [
    "##### Univariate Analysis on Term"
   ]
  },
  {
   "cell_type": "code",
   "execution_count": 67,
   "id": "5d81c42f",
   "metadata": {},
   "outputs": [
    {
     "data": {
      "text/plain": [
       " 36 months   75.50\n",
       " 60 months   24.50\n",
       "Name: term, dtype: float64"
      ]
     },
     "execution_count": 67,
     "metadata": {},
     "output_type": "execute_result"
    }
   ],
   "source": [
    "loan_fc.term.value_counts(normalize=True)*100"
   ]
  },
  {
   "cell_type": "code",
   "execution_count": 68,
   "id": "597e7cc6",
   "metadata": {
    "scrolled": true
   },
   "outputs": [
    {
     "data": {
      "image/png": "[encoded data removed]",
      "text/plain": [
       "<Figure size 576x360 with 1 Axes>"
      ]
     },
     "metadata": {},
     "output_type": "display_data"
    }
   ],
   "source": [
    "plt.figure(figsize=[8,5])\n",
    "\n",
    "sns.set_theme(style=\"darkgrid\")\n",
    "sns.countplot(data=loan_fc, x='term', hue='loan_status', palette=(\"Paired_r\"))\n",
    "\n",
    "plt.title('Term\\n', fontdict={'fontsize':15, 'fontweight':10, 'color':'brown'})\n",
    "plt.show()"
   ]
  },
  {
   "cell_type": "markdown",
   "id": "611ca381",
   "metadata": {},
   "source": [
    "*Observations:*\n",
    " - *75.5% of the loans were for a term of 36 months while the rest 24.5% were for 60 months term*\n",
    " - *Defaulters were also slightly higher when the term is 36 months*"
   ]
  },
  {
   "cell_type": "markdown",
   "id": "eb1e6b88",
   "metadata": {},
   "source": [
    "##### Univariate Analysis on Employment Length"
   ]
  },
  {
   "cell_type": "code",
   "execution_count": 192,
   "id": "2b1589fd",
   "metadata": {},
   "outputs": [
    {
     "data": {
      "text/plain": [
       "10+ years       21.80\n",
       "< 1 year        11.73\n",
       "2 years         11.12\n",
       "3 years         10.44\n",
       "4 years          8.68\n",
       "5 years          8.31\n",
       "1 year           8.25\n",
       "6 years          5.63\n",
       "7 years          4.45\n",
       "8 years          3.70\n",
       "9 years          3.19\n",
       "Not Available    2.70\n",
       "Name: emp_length, dtype: float64"
      ]
     },
     "execution_count": 192,
     "metadata": {},
     "output_type": "execute_result"
    }
   ],
   "source": [
    "loan_fc.emp_length.value_counts(normalize=True)*100"
   ]
  },
  {
   "cell_type": "code",
   "execution_count": 194,
   "id": "4c39bd83",
   "metadata": {},
   "outputs": [
    {
     "data": {
      "image/png": "[encoded data removed]",
      "text/plain": [
       "<Figure size 576x360 with 1 Axes>"
      ]
     },
     "metadata": {},
     "output_type": "display_data"
    }
   ],
   "source": [
    "plt.figure(figsize=[8,5])\n",
    "\n",
    "sns.set_theme(style=\"darkgrid\")\n",
    "sns.countplot(data=loan_fc, y='emp_length', hue='loan_status', palette=(\"Paired_r\"))\n",
    "\n",
    "plt.title('Employment Length\\n', fontdict={'fontsize':15, 'fontweight':10, 'color':'brown'})\n",
    "plt.show()"
   ]
  },
  {
   "cell_type": "markdown",
   "id": "0cfb1902",
   "metadata": {},
   "source": [
    "*Observations:*\n",
    " - *Borrowers with over 10 years of employment have applied for the most loans*\n",
    " - *Interestingly, there's a high amount of loans from borrowers with less than a year of employment*"
   ]
  },
  {
   "cell_type": "markdown",
   "id": "b499a4af",
   "metadata": {},
   "source": [
    "##### Univariate Analysis on Verification Status"
   ]
  },
  {
   "cell_type": "code",
   "execution_count": 196,
   "id": "44ca7aaf",
   "metadata": {},
   "outputs": [
    {
     "data": {
      "text/plain": [
       "Not Verified      43.66\n",
       "Verified          31.35\n",
       "Source Verified   24.99\n",
       "Name: verification_status, dtype: float64"
      ]
     },
     "execution_count": 196,
     "metadata": {},
     "output_type": "execute_result"
    }
   ],
   "source": [
    "loan_fc.verification_status.value_counts(normalize=True)*100"
   ]
  },
  {
   "cell_type": "code",
   "execution_count": 197,
   "id": "9eb2f3a6",
   "metadata": {},
   "outputs": [
    {
     "data": {
      "image/png": "[encoded data removed]",
      "text/plain": [
       "<Figure size 576x360 with 1 Axes>"
      ]
     },
     "metadata": {},
     "output_type": "display_data"
    }
   ],
   "source": [
    "plt.figure(figsize=[8,5])\n",
    "\n",
    "sns.set_theme(style=\"darkgrid\")\n",
    "sns.countplot(data=loan_fc, x='verification_status', hue='loan_status', palette=(\"Paired_r\"))\n",
    "\n",
    "plt.title('Verification Status\\n', fontdict={'fontsize':15, 'fontweight':10, 'color':'brown'})\n",
    "plt.show()"
   ]
  },
  {
   "cell_type": "markdown",
   "id": "fe839444",
   "metadata": {},
   "source": [
    "*Observations:*\n",
    " - *Most loans were from applicants with no income verified*"
   ]
  },
  {
   "cell_type": "markdown",
   "id": "2e473775",
   "metadata": {},
   "source": [
    "### Bivariate Analysis"
   ]
  },
  {
   "cell_type": "markdown",
   "id": "6b0c86bd",
   "metadata": {},
   "source": [
    "*To compare charged-off values against another variable, calculate the ratio of charged-off values and then compare it against each variable of interest.*"
   ]
  },
  {
   "cell_type": "markdown",
   "id": "4b0b0208",
   "metadata": {},
   "source": [
    "##### Bivariate Analysis - Annual Income and Defaulter Rate"
   ]
  },
  {
   "cell_type": "code",
   "execution_count": 150,
   "id": "541bd770",
   "metadata": {},
   "outputs": [
    {
     "data": {
      "text/html": [
       "<div>\n",
       "<style scoped>\n",
       "    .dataframe tbody tr th:only-of-type {\n",
       "        vertical-align: middle;\n",
       "    }\n",
       "\n",
       "    .dataframe tbody tr th {\n",
       "        vertical-align: top;\n",
       "    }\n",
       "\n",
       "    .dataframe thead th {\n",
       "        text-align: right;\n",
       "    }\n",
       "</style>\n",
       "<table border=\"1\" class=\"dataframe\">\n",
       "  <thead>\n",
       "    <tr style=\"text-align: right;\">\n",
       "      <th>loan_status</th>\n",
       "      <th>annual_inc_category</th>\n",
       "      <th>Charged Off</th>\n",
       "      <th>Fully Paid</th>\n",
       "      <th>Defaulter_Ratio</th>\n",
       "    </tr>\n",
       "  </thead>\n",
       "  <tbody>\n",
       "    <tr>\n",
       "      <th>0</th>\n",
       "      <td>0-20k</td>\n",
       "      <td>237</td>\n",
       "      <td>943</td>\n",
       "      <td>0.20</td>\n",
       "    </tr>\n",
       "    <tr>\n",
       "      <th>1</th>\n",
       "      <td>20k-40k</td>\n",
       "      <td>1514</td>\n",
       "      <td>7004</td>\n",
       "      <td>0.18</td>\n",
       "    </tr>\n",
       "    <tr>\n",
       "      <th>2</th>\n",
       "      <td>40k-60k</td>\n",
       "      <td>1729</td>\n",
       "      <td>9534</td>\n",
       "      <td>0.15</td>\n",
       "    </tr>\n",
       "    <tr>\n",
       "      <th>3</th>\n",
       "      <td>60k-80k</td>\n",
       "      <td>1024</td>\n",
       "      <td>6597</td>\n",
       "      <td>0.13</td>\n",
       "    </tr>\n",
       "    <tr>\n",
       "      <th>4</th>\n",
       "      <td>80k+</td>\n",
       "      <td>1052</td>\n",
       "      <td>8254</td>\n",
       "      <td>0.11</td>\n",
       "    </tr>\n",
       "  </tbody>\n",
       "</table>\n",
       "</div>"
      ],
      "text/plain": [
       "loan_status annual_inc_category  Charged Off  Fully Paid  Defaulter_Ratio\n",
       "0                         0-20k          237         943             0.20\n",
       "1                       20k-40k         1514        7004             0.18\n",
       "2                       40k-60k         1729        9534             0.15\n",
       "3                       60k-80k         1024        6597             0.13\n",
       "4                          80k+         1052        8254             0.11"
      ]
     },
     "execution_count": 150,
     "metadata": {},
     "output_type": "execute_result"
    }
   ],
   "source": [
    "df_income_vs_defaulter_ratio = pd.crosstab(loan_fc.annual_inc_category, loan_fc.loan_status)\n",
    "df_income_vs_defaulter_ratio.reset_index(inplace=True)\n",
    "df_income_vs_defaulter_ratio['Defaulter_Ratio'] = df_income_vs_defaulter_ratio['Charged Off']/df_income_vs_defaulter_ratio.sum(axis=1)\n",
    "df_income_vs_defaulter_ratio"
   ]
  },
  {
   "cell_type": "code",
   "execution_count": 151,
   "id": "7390afe6",
   "metadata": {},
   "outputs": [
    {
     "data": {
      "image/png": "[encoded data removed]",
      "text/plain": [
       "<Figure size 576x360 with 1 Axes>"
      ]
     },
     "metadata": {},
     "output_type": "display_data"
    }
   ],
   "source": [
    "plt.figure(figsize=[8,5])\n",
    "\n",
    "sns.set_theme(style=\"darkgrid\")\n",
    "sns.barplot(data=df_income_vs_defaulter_ratio, x='annual_inc_category', y='Defaulter_Ratio', palette=(\"Paired_r\"))\n",
    "\n",
    "plt.title('Annual Income vs Defaulter Ratio\\n', fontdict={'fontsize':15, 'fontweight':10, 'color':'brown'})\n",
    "plt.show()"
   ]
  },
  {
   "cell_type": "markdown",
   "id": "124a6c60",
   "metadata": {},
   "source": [
    "*Observations:*\n",
    " - Income range 80000+  has low number of defaulters.\n",
    " - People with income range between 0-20k have a high chances of becoming defaulters.\n",
    " - As annual income rises, the defaulter rate reduces."
   ]
  },
  {
   "cell_type": "markdown",
   "id": "740b87ae",
   "metadata": {},
   "source": [
    "##### Bivariate Analysis - Purpose and Defaulter Rate"
   ]
  },
  {
   "cell_type": "code",
   "execution_count": 152,
   "id": "9ae84431",
   "metadata": {},
   "outputs": [
    {
     "data": {
      "text/html": [
       "<div>\n",
       "<style scoped>\n",
       "    .dataframe tbody tr th:only-of-type {\n",
       "        vertical-align: middle;\n",
       "    }\n",
       "\n",
       "    .dataframe tbody tr th {\n",
       "        vertical-align: top;\n",
       "    }\n",
       "\n",
       "    .dataframe thead th {\n",
       "        text-align: right;\n",
       "    }\n",
       "</style>\n",
       "<table border=\"1\" class=\"dataframe\">\n",
       "  <thead>\n",
       "    <tr style=\"text-align: right;\">\n",
       "      <th>loan_status</th>\n",
       "      <th>purpose</th>\n",
       "      <th>Charged Off</th>\n",
       "      <th>Fully Paid</th>\n",
       "      <th>Defaulter_Ratio</th>\n",
       "    </tr>\n",
       "  </thead>\n",
       "  <tbody>\n",
       "    <tr>\n",
       "      <th>2</th>\n",
       "      <td>debt_consolidation</td>\n",
       "      <td>2745</td>\n",
       "      <td>15063</td>\n",
       "      <td>0.15</td>\n",
       "    </tr>\n",
       "    <tr>\n",
       "      <th>13</th>\n",
       "      <td>wedding</td>\n",
       "      <td>94</td>\n",
       "      <td>816</td>\n",
       "      <td>0.10</td>\n",
       "    </tr>\n",
       "    <tr>\n",
       "      <th>8</th>\n",
       "      <td>moving</td>\n",
       "      <td>90</td>\n",
       "      <td>477</td>\n",
       "      <td>0.16</td>\n",
       "    </tr>\n",
       "    <tr>\n",
       "      <th>12</th>\n",
       "      <td>vacation</td>\n",
       "      <td>53</td>\n",
       "      <td>322</td>\n",
       "      <td>0.14</td>\n",
       "    </tr>\n",
       "    <tr>\n",
       "      <th>6</th>\n",
       "      <td>major_purchase</td>\n",
       "      <td>220</td>\n",
       "      <td>1891</td>\n",
       "      <td>0.10</td>\n",
       "    </tr>\n",
       "  </tbody>\n",
       "</table>\n",
       "</div>"
      ],
      "text/plain": [
       "loan_status             purpose  Charged Off  Fully Paid  Defaulter_Ratio\n",
       "2            debt_consolidation         2745       15063             0.15\n",
       "13                      wedding           94         816             0.10\n",
       "8                        moving           90         477             0.16\n",
       "12                     vacation           53         322             0.14\n",
       "6                major_purchase          220        1891             0.10"
      ]
     },
     "execution_count": 152,
     "metadata": {},
     "output_type": "execute_result"
    }
   ],
   "source": [
    "df_purpose_vs_defaulter_ratio = pd.crosstab(loan_fc.purpose, loan_fc.loan_status)\n",
    "df_purpose_vs_defaulter_ratio.reset_index(inplace=True)\n",
    "df_purpose_vs_defaulter_ratio['Defaulter_Ratio'] = df_purpose_vs_defaulter_ratio['Charged Off']/df_purpose_vs_defaulter_ratio.sum(axis=1)\n",
    "df_purpose_vs_defaulter_ratio.sample(5)"
   ]
  },
  {
   "cell_type": "code",
   "execution_count": 153,
   "id": "722a25b5",
   "metadata": {},
   "outputs": [
    {
     "data": {
      "image/png": "[encoded data removed]",
      "text/plain": [
       "<Figure size 576x360 with 1 Axes>"
      ]
     },
     "metadata": {},
     "output_type": "display_data"
    }
   ],
   "source": [
    "plt.figure(figsize=[8,5])\n",
    "\n",
    "sns.set_theme(style=\"darkgrid\")\n",
    "sns.barplot(data=df_purpose_vs_defaulter_ratio, y='purpose', x='Defaulter_Ratio', palette=(\"Paired_r\"))\n",
    "\n",
    "plt.title('Purpose vs Defaulter Ratio\\n', fontdict={'fontsize':15, 'fontweight':10, 'color':'brown'})\n",
    "# plt.xticks(rotation=90)\n",
    "plt.show()"
   ]
  },
  {
   "cell_type": "markdown",
   "id": "af67e445",
   "metadata": {},
   "source": [
    "*Observations:*\n",
    " - Loans for Small Business have high chances of defaulting."
   ]
  },
  {
   "cell_type": "markdown",
   "id": "71603a63",
   "metadata": {},
   "source": [
    "##### Bivariate Analysis - Grade and Defaulter Rate"
   ]
  },
  {
   "cell_type": "code",
   "execution_count": 154,
   "id": "002a0935",
   "metadata": {},
   "outputs": [
    {
     "data": {
      "text/html": [
       "<div>\n",
       "<style scoped>\n",
       "    .dataframe tbody tr th:only-of-type {\n",
       "        vertical-align: middle;\n",
       "    }\n",
       "\n",
       "    .dataframe tbody tr th {\n",
       "        vertical-align: top;\n",
       "    }\n",
       "\n",
       "    .dataframe thead th {\n",
       "        text-align: right;\n",
       "    }\n",
       "</style>\n",
       "<table border=\"1\" class=\"dataframe\">\n",
       "  <thead>\n",
       "    <tr style=\"text-align: right;\">\n",
       "      <th>loan_status</th>\n",
       "      <th>grade</th>\n",
       "      <th>Charged Off</th>\n",
       "      <th>Fully Paid</th>\n",
       "      <th>Defaulter_Ratio</th>\n",
       "    </tr>\n",
       "  </thead>\n",
       "  <tbody>\n",
       "    <tr>\n",
       "      <th>2</th>\n",
       "      <td>C</td>\n",
       "      <td>1338</td>\n",
       "      <td>6356</td>\n",
       "      <td>0.17</td>\n",
       "    </tr>\n",
       "    <tr>\n",
       "      <th>5</th>\n",
       "      <td>F</td>\n",
       "      <td>309</td>\n",
       "      <td>629</td>\n",
       "      <td>0.33</td>\n",
       "    </tr>\n",
       "    <tr>\n",
       "      <th>4</th>\n",
       "      <td>E</td>\n",
       "      <td>699</td>\n",
       "      <td>1885</td>\n",
       "      <td>0.27</td>\n",
       "    </tr>\n",
       "    <tr>\n",
       "      <th>3</th>\n",
       "      <td>D</td>\n",
       "      <td>1106</td>\n",
       "      <td>3879</td>\n",
       "      <td>0.22</td>\n",
       "    </tr>\n",
       "    <tr>\n",
       "      <th>0</th>\n",
       "      <td>A</td>\n",
       "      <td>600</td>\n",
       "      <td>9326</td>\n",
       "      <td>0.06</td>\n",
       "    </tr>\n",
       "  </tbody>\n",
       "</table>\n",
       "</div>"
      ],
      "text/plain": [
       "loan_status grade  Charged Off  Fully Paid  Defaulter_Ratio\n",
       "2               C         1338        6356             0.17\n",
       "5               F          309         629             0.33\n",
       "4               E          699        1885             0.27\n",
       "3               D         1106        3879             0.22\n",
       "0               A          600        9326             0.06"
      ]
     },
     "execution_count": 154,
     "metadata": {},
     "output_type": "execute_result"
    }
   ],
   "source": [
    "df_grade_vs_defaulter_ratio = pd.crosstab(loan_fc.grade, loan_fc.loan_status)\n",
    "df_grade_vs_defaulter_ratio.reset_index(inplace=True)\n",
    "df_grade_vs_defaulter_ratio['Defaulter_Ratio'] = df_grade_vs_defaulter_ratio['Charged Off']/df_grade_vs_defaulter_ratio.sum(axis=1)\n",
    "df_grade_vs_defaulter_ratio.sample(5)"
   ]
  },
  {
   "cell_type": "code",
   "execution_count": 155,
   "id": "55b65f1f",
   "metadata": {
    "scrolled": true
   },
   "outputs": [
    {
     "data": {
      "image/png": "[encoded data removed]",
      "text/plain": [
       "<Figure size 576x360 with 1 Axes>"
      ]
     },
     "metadata": {},
     "output_type": "display_data"
    }
   ],
   "source": [
    "plt.figure(figsize=[8,5])\n",
    "\n",
    "sns.set_theme(style=\"darkgrid\")\n",
    "sns.barplot(data=df_grade_vs_defaulter_ratio, x='grade', y='Defaulter_Ratio', palette=(\"Paired_r\"))\n",
    "\n",
    "plt.title('Grade vs Defaulter Ratio\\n', fontdict={'fontsize':15, 'fontweight':10, 'color':'brown'})\n",
    "plt.show()"
   ]
  },
  {
   "cell_type": "markdown",
   "id": "babe96fa",
   "metadata": {},
   "source": [
    "*Observations:*\n",
    " - Grade \"F\" and \"G\" have very high chances of defaulting\n",
    " - Grade \"A\" has the lowest defaulter ratio\n",
    " - Chances of defaulting increases from grade \"A\" to \"G\""
   ]
  },
  {
   "cell_type": "markdown",
   "id": "8eebb3b7",
   "metadata": {},
   "source": [
    "##### Bivariate Analysis - Sub Grade and Defaulter Rate"
   ]
  },
  {
   "cell_type": "code",
   "execution_count": 156,
   "id": "2e57e802",
   "metadata": {},
   "outputs": [
    {
     "data": {
      "text/html": [
       "<div>\n",
       "<style scoped>\n",
       "    .dataframe tbody tr th:only-of-type {\n",
       "        vertical-align: middle;\n",
       "    }\n",
       "\n",
       "    .dataframe tbody tr th {\n",
       "        vertical-align: top;\n",
       "    }\n",
       "\n",
       "    .dataframe thead th {\n",
       "        text-align: right;\n",
       "    }\n",
       "</style>\n",
       "<table border=\"1\" class=\"dataframe\">\n",
       "  <thead>\n",
       "    <tr style=\"text-align: right;\">\n",
       "      <th>loan_status</th>\n",
       "      <th>sub_grade</th>\n",
       "      <th>Charged Off</th>\n",
       "      <th>Fully Paid</th>\n",
       "      <th>Defaulter_Ratio</th>\n",
       "    </tr>\n",
       "  </thead>\n",
       "  <tbody>\n",
       "    <tr>\n",
       "      <th>3</th>\n",
       "      <td>A4</td>\n",
       "      <td>178</td>\n",
       "      <td>2663</td>\n",
       "      <td>0.06</td>\n",
       "    </tr>\n",
       "    <tr>\n",
       "      <th>9</th>\n",
       "      <td>B5</td>\n",
       "      <td>354</td>\n",
       "      <td>2221</td>\n",
       "      <td>0.14</td>\n",
       "    </tr>\n",
       "    <tr>\n",
       "      <th>30</th>\n",
       "      <td>G1</td>\n",
       "      <td>31</td>\n",
       "      <td>61</td>\n",
       "      <td>0.34</td>\n",
       "    </tr>\n",
       "    <tr>\n",
       "      <th>5</th>\n",
       "      <td>B1</td>\n",
       "      <td>170</td>\n",
       "      <td>1601</td>\n",
       "      <td>0.10</td>\n",
       "    </tr>\n",
       "    <tr>\n",
       "      <th>24</th>\n",
       "      <td>E5</td>\n",
       "      <td>104</td>\n",
       "      <td>260</td>\n",
       "      <td>0.29</td>\n",
       "    </tr>\n",
       "  </tbody>\n",
       "</table>\n",
       "</div>"
      ],
      "text/plain": [
       "loan_status sub_grade  Charged Off  Fully Paid  Defaulter_Ratio\n",
       "3                  A4          178        2663             0.06\n",
       "9                  B5          354        2221             0.14\n",
       "30                 G1           31          61             0.34\n",
       "5                  B1          170        1601             0.10\n",
       "24                 E5          104         260             0.29"
      ]
     },
     "execution_count": 156,
     "metadata": {},
     "output_type": "execute_result"
    }
   ],
   "source": [
    "df_sub_grade_vs_defaulter_ratio = pd.crosstab(loan_fc.sub_grade, loan_fc.loan_status)\n",
    "df_sub_grade_vs_defaulter_ratio.reset_index(inplace=True)\n",
    "df_sub_grade_vs_defaulter_ratio['Defaulter_Ratio'] = df_sub_grade_vs_defaulter_ratio['Charged Off']/df_sub_grade_vs_defaulter_ratio.sum(axis=1)\n",
    "df_sub_grade_vs_defaulter_ratio.sample(5)"
   ]
  },
  {
   "cell_type": "code",
   "execution_count": 157,
   "id": "b50a0ba3",
   "metadata": {},
   "outputs": [
    {
     "data": {
      "image/png": "[encoded data removed]",
      "text/plain": [
       "<Figure size 576x360 with 1 Axes>"
      ]
     },
     "metadata": {},
     "output_type": "display_data"
    }
   ],
   "source": [
    "plt.figure(figsize=[8,5])\n",
    "\n",
    "sns.set_theme(style=\"darkgrid\")\n",
    "sns.barplot(data=df_sub_grade_vs_defaulter_ratio, x='sub_grade', y='Defaulter_Ratio', palette=(\"Paired_r\"))\n",
    "\n",
    "plt.title('Sub Grade vs Defaulter Ratio\\n', fontdict={'fontsize':15, 'fontweight':10, 'color':'brown'})\n",
    "plt.show()"
   ]
  },
  {
   "cell_type": "markdown",
   "id": "89be34ea",
   "metadata": {},
   "source": [
    "*Observations:*<br>\n",
    "*The inferences are near identical to using grade*\n",
    " - Grade \"F\" and \"G\" have very high chances of defaulting with sub grade \"F5\" having the highest default ratio\n",
    " - Grade \"A\" has the lowest defaulter ratio\n",
    " - Chances of defaulting increases from grade \"A\" to \"G\""
   ]
  },
  {
   "cell_type": "markdown",
   "id": "f93cf6bd",
   "metadata": {},
   "source": [
    "##### Grade vs Interest Rate"
   ]
  },
  {
   "cell_type": "code",
   "execution_count": 191,
   "id": "4f83d756",
   "metadata": {
    "scrolled": true
   },
   "outputs": [
    {
     "data": {
      "text/plain": [
       "<AxesSubplot:xlabel='grade', ylabel='int_rate'>"
      ]
     },
     "execution_count": 191,
     "metadata": {},
     "output_type": "execute_result"
    },
    {
     "data": {
      "image/png": "[encoded data removed]",
      "text/plain": [
       "<Figure size 432x288 with 1 Axes>"
      ]
     },
     "metadata": {},
     "output_type": "display_data"
    }
   ],
   "source": [
    "sns.barplot(data=loan_fc, x='grade', y='int_rate')"
   ]
  },
  {
   "cell_type": "markdown",
   "id": "e2ae9cbd",
   "metadata": {},
   "source": [
    "*Observation:*\n",
    " - As Grades increases, the interest rates also increases.\n",
    " - This explains why there's a high amount of defaulters in grades, \"F\" and \"G\""
   ]
  },
  {
   "cell_type": "markdown",
   "id": "9750a103",
   "metadata": {},
   "source": [
    "##### Bivariate Analysis - Interest Rate and Defaulter Rate"
   ]
  },
  {
   "cell_type": "code",
   "execution_count": 158,
   "id": "d529d678",
   "metadata": {},
   "outputs": [
    {
     "data": {
      "text/html": [
       "<div>\n",
       "<style scoped>\n",
       "    .dataframe tbody tr th:only-of-type {\n",
       "        vertical-align: middle;\n",
       "    }\n",
       "\n",
       "    .dataframe tbody tr th {\n",
       "        vertical-align: top;\n",
       "    }\n",
       "\n",
       "    .dataframe thead th {\n",
       "        text-align: right;\n",
       "    }\n",
       "</style>\n",
       "<table border=\"1\" class=\"dataframe\">\n",
       "  <thead>\n",
       "    <tr style=\"text-align: right;\">\n",
       "      <th>loan_status</th>\n",
       "      <th>int_rate_category</th>\n",
       "      <th>Charged Off</th>\n",
       "      <th>Fully Paid</th>\n",
       "      <th>Defaulter_Ratio</th>\n",
       "    </tr>\n",
       "  </thead>\n",
       "  <tbody>\n",
       "    <tr>\n",
       "      <th>1</th>\n",
       "      <td>5-10</td>\n",
       "      <td>985</td>\n",
       "      <td>6656</td>\n",
       "      <td>0.13</td>\n",
       "    </tr>\n",
       "    <tr>\n",
       "      <th>0</th>\n",
       "      <td>0-5</td>\n",
       "      <td>577</td>\n",
       "      <td>4100</td>\n",
       "      <td>0.12</td>\n",
       "    </tr>\n",
       "    <tr>\n",
       "      <th>2</th>\n",
       "      <td>10-15</td>\n",
       "      <td>1386</td>\n",
       "      <td>8094</td>\n",
       "      <td>0.15</td>\n",
       "    </tr>\n",
       "    <tr>\n",
       "      <th>4</th>\n",
       "      <td>20+</td>\n",
       "      <td>1202</td>\n",
       "      <td>5974</td>\n",
       "      <td>0.17</td>\n",
       "    </tr>\n",
       "    <tr>\n",
       "      <th>3</th>\n",
       "      <td>15-20</td>\n",
       "      <td>1378</td>\n",
       "      <td>7362</td>\n",
       "      <td>0.16</td>\n",
       "    </tr>\n",
       "  </tbody>\n",
       "</table>\n",
       "</div>"
      ],
      "text/plain": [
       "loan_status int_rate_category  Charged Off  Fully Paid  Defaulter_Ratio\n",
       "1                        5-10          985        6656             0.13\n",
       "0                         0-5          577        4100             0.12\n",
       "2                       10-15         1386        8094             0.15\n",
       "4                         20+         1202        5974             0.17\n",
       "3                       15-20         1378        7362             0.16"
      ]
     },
     "execution_count": 158,
     "metadata": {},
     "output_type": "execute_result"
    }
   ],
   "source": [
    "df_int_rate_vs_defaulter_ratio = pd.crosstab(loan_fc.int_rate_category, loan_fc.loan_status)\n",
    "df_int_rate_vs_defaulter_ratio.reset_index(inplace=True)\n",
    "df_int_rate_vs_defaulter_ratio['Defaulter_Ratio'] = df_int_rate_vs_defaulter_ratio['Charged Off']/df_int_rate_vs_defaulter_ratio.sum(axis=1)\n",
    "df_int_rate_vs_defaulter_ratio.sample(5)"
   ]
  },
  {
   "cell_type": "code",
   "execution_count": 159,
   "id": "8a3677ad",
   "metadata": {
    "scrolled": true
   },
   "outputs": [
    {
     "data": {
      "image/png": "[encoded data removed]",
      "text/plain": [
       "<Figure size 576x360 with 1 Axes>"
      ]
     },
     "metadata": {},
     "output_type": "display_data"
    }
   ],
   "source": [
    "plt.figure(figsize=[8,5])\n",
    "\n",
    "sns.set_theme(style=\"darkgrid\")\n",
    "sns.barplot(data=df_int_rate_vs_defaulter_ratio, x='int_rate_category', y='Defaulter_Ratio', palette=(\"Paired_r\"))\n",
    "\n",
    "plt.title('Interest Rate vs Defaulter Ratio\\n', fontdict={'fontsize':15, 'fontweight':10, 'color':'brown'})\n",
    "plt.show()"
   ]
  },
  {
   "cell_type": "markdown",
   "id": "16ceae3e",
   "metadata": {},
   "source": [
    "*Observations:*\n",
    " - Higher interest rates attract high possibility of defaulting\n",
    " - Interest Rates of 20% and above have the highest default rate\n",
    " - Interest rates of 15% and above have high default rates\n",
    " - Interest Rates of 10% or below have the lowest default rate"
   ]
  },
  {
   "cell_type": "markdown",
   "id": "86c292d1",
   "metadata": {},
   "source": [
    "##### Bivariate Analysis - Employment Length and Defaulter Rate"
   ]
  },
  {
   "cell_type": "code",
   "execution_count": 160,
   "id": "e0898189",
   "metadata": {
    "scrolled": true
   },
   "outputs": [
    {
     "data": {
      "text/html": [
       "<div>\n",
       "<style scoped>\n",
       "    .dataframe tbody tr th:only-of-type {\n",
       "        vertical-align: middle;\n",
       "    }\n",
       "\n",
       "    .dataframe tbody tr th {\n",
       "        vertical-align: top;\n",
       "    }\n",
       "\n",
       "    .dataframe thead th {\n",
       "        text-align: right;\n",
       "    }\n",
       "</style>\n",
       "<table border=\"1\" class=\"dataframe\">\n",
       "  <thead>\n",
       "    <tr style=\"text-align: right;\">\n",
       "      <th>loan_status</th>\n",
       "      <th>emp_length</th>\n",
       "      <th>Charged Off</th>\n",
       "      <th>Fully Paid</th>\n",
       "      <th>Defaulter_Ratio</th>\n",
       "    </tr>\n",
       "  </thead>\n",
       "  <tbody>\n",
       "    <tr>\n",
       "      <th>0</th>\n",
       "      <td>1 year</td>\n",
       "      <td>454</td>\n",
       "      <td>2673</td>\n",
       "      <td>0.15</td>\n",
       "    </tr>\n",
       "    <tr>\n",
       "      <th>1</th>\n",
       "      <td>10+ years</td>\n",
       "      <td>1306</td>\n",
       "      <td>6952</td>\n",
       "      <td>0.16</td>\n",
       "    </tr>\n",
       "    <tr>\n",
       "      <th>2</th>\n",
       "      <td>2 years</td>\n",
       "      <td>560</td>\n",
       "      <td>3655</td>\n",
       "      <td>0.13</td>\n",
       "    </tr>\n",
       "    <tr>\n",
       "      <th>3</th>\n",
       "      <td>3 years</td>\n",
       "      <td>550</td>\n",
       "      <td>3405</td>\n",
       "      <td>0.14</td>\n",
       "    </tr>\n",
       "    <tr>\n",
       "      <th>4</th>\n",
       "      <td>4 years</td>\n",
       "      <td>455</td>\n",
       "      <td>2833</td>\n",
       "      <td>0.14</td>\n",
       "    </tr>\n",
       "    <tr>\n",
       "      <th>5</th>\n",
       "      <td>5 years</td>\n",
       "      <td>452</td>\n",
       "      <td>2695</td>\n",
       "      <td>0.14</td>\n",
       "    </tr>\n",
       "    <tr>\n",
       "      <th>6</th>\n",
       "      <td>6 years</td>\n",
       "      <td>303</td>\n",
       "      <td>1830</td>\n",
       "      <td>0.14</td>\n",
       "    </tr>\n",
       "    <tr>\n",
       "      <th>7</th>\n",
       "      <td>7 years</td>\n",
       "      <td>262</td>\n",
       "      <td>1425</td>\n",
       "      <td>0.16</td>\n",
       "    </tr>\n",
       "    <tr>\n",
       "      <th>8</th>\n",
       "      <td>8 years</td>\n",
       "      <td>200</td>\n",
       "      <td>1202</td>\n",
       "      <td>0.14</td>\n",
       "    </tr>\n",
       "    <tr>\n",
       "      <th>9</th>\n",
       "      <td>9 years</td>\n",
       "      <td>156</td>\n",
       "      <td>1051</td>\n",
       "      <td>0.13</td>\n",
       "    </tr>\n",
       "    <tr>\n",
       "      <th>10</th>\n",
       "      <td>&lt; 1 year</td>\n",
       "      <td>632</td>\n",
       "      <td>3814</td>\n",
       "      <td>0.14</td>\n",
       "    </tr>\n",
       "    <tr>\n",
       "      <th>11</th>\n",
       "      <td>Not Available</td>\n",
       "      <td>226</td>\n",
       "      <td>797</td>\n",
       "      <td>0.22</td>\n",
       "    </tr>\n",
       "  </tbody>\n",
       "</table>\n",
       "</div>"
      ],
      "text/plain": [
       "loan_status     emp_length  Charged Off  Fully Paid  Defaulter_Ratio\n",
       "0                   1 year          454        2673             0.15\n",
       "1                10+ years         1306        6952             0.16\n",
       "2                  2 years          560        3655             0.13\n",
       "3                  3 years          550        3405             0.14\n",
       "4                  4 years          455        2833             0.14\n",
       "5                  5 years          452        2695             0.14\n",
       "6                  6 years          303        1830             0.14\n",
       "7                  7 years          262        1425             0.16\n",
       "8                  8 years          200        1202             0.14\n",
       "9                  9 years          156        1051             0.13\n",
       "10                < 1 year          632        3814             0.14\n",
       "11           Not Available          226         797             0.22"
      ]
     },
     "execution_count": 160,
     "metadata": {},
     "output_type": "execute_result"
    }
   ],
   "source": [
    "df_emp_length_vs_defaulter_ratio = pd.crosstab(loan_fc.emp_length, loan_fc.loan_status)\n",
    "df_emp_length_vs_defaulter_ratio.reset_index(inplace=True)\n",
    "df_emp_length_vs_defaulter_ratio['Defaulter_Ratio'] = df_emp_length_vs_defaulter_ratio['Charged Off']/df_emp_length_vs_defaulter_ratio.sum(axis=1)\n",
    "df_emp_length_vs_defaulter_ratio"
   ]
  },
  {
   "cell_type": "code",
   "execution_count": 161,
   "id": "c4c9ec5e",
   "metadata": {},
   "outputs": [
    {
     "data": {
      "image/png": "[encoded data removed]",
      "text/plain": [
       "<Figure size 576x360 with 1 Axes>"
      ]
     },
     "metadata": {},
     "output_type": "display_data"
    }
   ],
   "source": [
    "plt.figure(figsize=[8,5])\n",
    "\n",
    "sns.set_theme(style=\"darkgrid\")\n",
    "sns.barplot(data=df_emp_length_vs_defaulter_ratio, x='emp_length', y='Defaulter_Ratio', palette=(\"Paired_r\"))\n",
    "\n",
    "plt.title('Employment Length vs Defaulter Ratio\\n', fontdict={'fontsize':15, 'fontweight':10, 'color':'brown'})\n",
    "plt.xticks(rotation=45)\n",
    "plt.show()"
   ]
  },
  {
   "cell_type": "markdown",
   "id": "4eae8a8d",
   "metadata": {},
   "source": [
    "*Observation:*\n",
    " - People with less than 1 year of employment and 10+ years of employment both have high chances for defaulting\n",
    " - There's not much difference in defaulter rate between other employment lengths"
   ]
  },
  {
   "cell_type": "markdown",
   "id": "9587cb58",
   "metadata": {},
   "source": [
    "##### Bivariate Analysis - State and Defaulter Rate"
   ]
  },
  {
   "cell_type": "code",
   "execution_count": 164,
   "id": "a373442e",
   "metadata": {},
   "outputs": [
    {
     "data": {
      "text/html": [
       "<div>\n",
       "<style scoped>\n",
       "    .dataframe tbody tr th:only-of-type {\n",
       "        vertical-align: middle;\n",
       "    }\n",
       "\n",
       "    .dataframe tbody tr th {\n",
       "        vertical-align: top;\n",
       "    }\n",
       "\n",
       "    .dataframe thead th {\n",
       "        text-align: right;\n",
       "    }\n",
       "</style>\n",
       "<table border=\"1\" class=\"dataframe\">\n",
       "  <thead>\n",
       "    <tr style=\"text-align: right;\">\n",
       "      <th>loan_status</th>\n",
       "      <th>addr_state</th>\n",
       "      <th>Charged Off</th>\n",
       "      <th>Fully Paid</th>\n",
       "      <th>Defaulter_Ratio</th>\n",
       "    </tr>\n",
       "  </thead>\n",
       "  <tbody>\n",
       "    <tr>\n",
       "      <th>9</th>\n",
       "      <td>FL</td>\n",
       "      <td>496</td>\n",
       "      <td>2241</td>\n",
       "      <td>0.18</td>\n",
       "    </tr>\n",
       "    <tr>\n",
       "      <th>33</th>\n",
       "      <td>NY</td>\n",
       "      <td>486</td>\n",
       "      <td>3119</td>\n",
       "      <td>0.13</td>\n",
       "    </tr>\n",
       "    <tr>\n",
       "      <th>42</th>\n",
       "      <td>TX</td>\n",
       "      <td>308</td>\n",
       "      <td>2298</td>\n",
       "      <td>0.12</td>\n",
       "    </tr>\n",
       "    <tr>\n",
       "      <th>3</th>\n",
       "      <td>AZ</td>\n",
       "      <td>120</td>\n",
       "      <td>713</td>\n",
       "      <td>0.14</td>\n",
       "    </tr>\n",
       "    <tr>\n",
       "      <th>46</th>\n",
       "      <td>WA</td>\n",
       "      <td>127</td>\n",
       "      <td>679</td>\n",
       "      <td>0.16</td>\n",
       "    </tr>\n",
       "  </tbody>\n",
       "</table>\n",
       "</div>"
      ],
      "text/plain": [
       "loan_status addr_state  Charged Off  Fully Paid  Defaulter_Ratio\n",
       "9                   FL          496        2241             0.18\n",
       "33                  NY          486        3119             0.13\n",
       "42                  TX          308        2298             0.12\n",
       "3                   AZ          120         713             0.14\n",
       "46                  WA          127         679             0.16"
      ]
     },
     "execution_count": 164,
     "metadata": {},
     "output_type": "execute_result"
    }
   ],
   "source": [
    "df_state_vs_defaulter_ratio = pd.crosstab(loan_fc.addr_state, loan_fc.loan_status)\n",
    "df_state_vs_defaulter_ratio.reset_index(inplace=True)\n",
    "df_state_vs_defaulter_ratio['Defaulter_Ratio'] = df_state_vs_defaulter_ratio['Charged Off']/df_state_vs_defaulter_ratio.sum(axis=1)\n",
    "df_state_vs_defaulter_ratio.sample(5)"
   ]
  },
  {
   "cell_type": "code",
   "execution_count": 170,
   "id": "d7e77492",
   "metadata": {
    "scrolled": true
   },
   "outputs": [
    {
     "data": {
      "image/png": "[encoded data removed]",
      "text/plain": [
       "<Figure size 1296x936 with 1 Axes>"
      ]
     },
     "metadata": {},
     "output_type": "display_data"
    }
   ],
   "source": [
    "plt.figure(figsize=[18,13])\n",
    "\n",
    "sns.set_theme(style=\"darkgrid\")\n",
    "sns.barplot(data=df_state_vs_defaulter_ratio, x='addr_state', y='Defaulter_Ratio', palette=(\"Paired_r\"))\n",
    "\n",
    "plt.title('State vs Defaulter Ratio\\n', fontdict={'fontsize':15, 'fontweight':10, 'color':'brown'})\n",
    "plt.show()"
   ]
  },
  {
   "cell_type": "markdown",
   "id": "d0e2f595",
   "metadata": {},
   "source": [
    "*Observations:*\n",
    " - Borrowers from the state of 'NE' have the highest default rate\n",
    " - States, 'NV', 'SD', 'AK' and 'FL' also have high default rates compared to other states"
   ]
  },
  {
   "cell_type": "markdown",
   "id": "5a50e136",
   "metadata": {},
   "source": [
    "##### Bivariate Analysis - Verification Status and Defaulter Rate"
   ]
  },
  {
   "cell_type": "code",
   "execution_count": 183,
   "id": "9a01cb74",
   "metadata": {},
   "outputs": [
    {
     "data": {
      "text/html": [
       "<div>\n",
       "<style scoped>\n",
       "    .dataframe tbody tr th:only-of-type {\n",
       "        vertical-align: middle;\n",
       "    }\n",
       "\n",
       "    .dataframe tbody tr th {\n",
       "        vertical-align: top;\n",
       "    }\n",
       "\n",
       "    .dataframe thead th {\n",
       "        text-align: right;\n",
       "    }\n",
       "</style>\n",
       "<table border=\"1\" class=\"dataframe\">\n",
       "  <thead>\n",
       "    <tr style=\"text-align: right;\">\n",
       "      <th>loan_status</th>\n",
       "      <th>verification_status</th>\n",
       "      <th>Charged Off</th>\n",
       "      <th>Fully Paid</th>\n",
       "      <th>Defaulter_Ratio</th>\n",
       "    </tr>\n",
       "  </thead>\n",
       "  <tbody>\n",
       "    <tr>\n",
       "      <th>0</th>\n",
       "      <td>Not Verified</td>\n",
       "      <td>2121</td>\n",
       "      <td>14420</td>\n",
       "      <td>0.13</td>\n",
       "    </tr>\n",
       "    <tr>\n",
       "      <th>1</th>\n",
       "      <td>Source Verified</td>\n",
       "      <td>1415</td>\n",
       "      <td>8055</td>\n",
       "      <td>0.15</td>\n",
       "    </tr>\n",
       "    <tr>\n",
       "      <th>2</th>\n",
       "      <td>Verified</td>\n",
       "      <td>2020</td>\n",
       "      <td>9857</td>\n",
       "      <td>0.17</td>\n",
       "    </tr>\n",
       "  </tbody>\n",
       "</table>\n",
       "</div>"
      ],
      "text/plain": [
       "loan_status verification_status  Charged Off  Fully Paid  Defaulter_Ratio\n",
       "0                  Not Verified         2121       14420             0.13\n",
       "1               Source Verified         1415        8055             0.15\n",
       "2                      Verified         2020        9857             0.17"
      ]
     },
     "execution_count": 183,
     "metadata": {},
     "output_type": "execute_result"
    }
   ],
   "source": [
    "df_ver_vs_defaulter_ratio = pd.crosstab(loan_fc.verification_status, loan_fc.loan_status)\n",
    "df_ver_vs_defaulter_ratio.reset_index(inplace=True)\n",
    "df_ver_vs_defaulter_ratio['Defaulter_Ratio'] = df_ver_vs_defaulter_ratio['Charged Off']/df_ver_vs_defaulter_ratio.sum(axis=1)\n",
    "df_ver_vs_defaulter_ratio"
   ]
  },
  {
   "cell_type": "code",
   "execution_count": 185,
   "id": "07a5f303",
   "metadata": {
    "scrolled": false
   },
   "outputs": [
    {
     "data": {
      "image/png": "[encoded data removed]",
      "text/plain": [
       "<Figure size 576x360 with 1 Axes>"
      ]
     },
     "metadata": {},
     "output_type": "display_data"
    }
   ],
   "source": [
    "plt.figure(figsize=[8,5])\n",
    "\n",
    "sns.set_theme(style=\"darkgrid\")\n",
    "sns.barplot(data=df_ver_vs_defaulter_ratio, x='verification_status', y='Defaulter_Ratio', palette=(\"Paired_r\"))\n",
    "\n",
    "plt.title('Verification Status vs Defaulter Ratio\\n', fontdict={'fontsize':15, 'fontweight':10, 'color':'brown'})\n",
    "plt.show()"
   ]
  },
  {
   "cell_type": "markdown",
   "id": "90a80dca",
   "metadata": {},
   "source": [
    "*Observations:*\n",
    " - Borrowers with their incomes verified have the highest default rate\n",
    " - Maybe further analysis is required to prove this"
   ]
  }
 ],
 "metadata": {
  "kernelspec": {
   "display_name": "Python 3 (ipykernel)",
   "language": "python",
   "name": "python3"
  },
  "language_info": {
   "codemirror_mode": {
    "name": "ipython",
    "version": 3
   },
   "file_extension": ".py",
   "mimetype": "text/x-python",
   "name": "python",
   "nbconvert_exporter": "python",
   "pygments_lexer": "ipython3",
   "version": "3.9.7"
  },
  "varInspector": {
   "cols": {
    "lenName": 16,
    "lenType": 16,
    "lenVar": 40
   },
   "kernels_config": {
    "python": {
     "delete_cmd_postfix": "",
     "delete_cmd_prefix": "del ",
     "library": "var_list.py",
     "varRefreshCmd": "print(var_dic_list())"
    },
    "r": {
     "delete_cmd_postfix": ") ",
     "delete_cmd_prefix": "rm(",
     "library": "var_list.r",
     "varRefreshCmd": "cat(var_dic_list()) "
    }
   },
   "types_to_exclude": [
    "module",
    "function",
    "builtin_function_or_method",
    "instance",
    "_Feature"
   ],
   "window_display": false
  }
 },
 "nbformat": 4,
 "nbformat_minor": 5
}
